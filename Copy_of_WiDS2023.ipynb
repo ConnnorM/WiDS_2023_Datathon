{
  "cells": [
    {
      "cell_type": "markdown",
      "metadata": {
        "id": "view-in-github",
        "colab_type": "text"
      },
      "source": [
        "<a href=\"https://colab.research.google.com/github/ConnnorM/WiDS_2023_Datathon/blob/main/Copy_of_WiDS2023.ipynb\" target=\"_parent\"><img src=\"https://colab.research.google.com/assets/colab-badge.svg\" alt=\"Open In Colab\"/></a>"
      ]
    },
    {
      "cell_type": "markdown",
      "source": [
        "2023 WiDS Climate Change Kaggle Competition:\n",
        "- by Olivia Armstrong and Connor Martindale\n",
        "- Using Lasso Regression and XGBoost to make time series predictions"
      ],
      "metadata": {
        "id": "tMX0cR47AmMY"
      }
    },
    {
      "cell_type": "markdown",
      "metadata": {
        "id": "erR7nEYrifAr"
      },
      "source": [
        "#Imports and Basic Data Exploration"
      ]
    },
    {
      "cell_type": "markdown",
      "metadata": {
        "id": "ZTk43VcMct_l"
      },
      "source": [
        "**Imports and Loading the Data**"
      ]
    },
    {
      "cell_type": "code",
      "execution_count": null,
      "metadata": {
        "id": "tU31bUqgbBgK"
      },
      "outputs": [],
      "source": [
        "import warnings\n",
        "warnings.filterwarnings('ignore')\n",
        "\n",
        "import csv\n",
        "import pandas as pd\n",
        "import numpy as np\n",
        "from plotnine import *\n",
        "from sklearn import metrics\n",
        "from collections import OrderedDict\n",
        "import seaborn as sns\n",
        "import matplotlib.pyplot as plt\n",
        "\n",
        "from sklearn.linear_model import LogisticRegression, Lasso # Logistic Regression Model\n",
        "from sklearn.model_selection import RandomizedSearchCV\n",
        "from sklearn.tree import DecisionTreeClassifier #Decision Tree Model\n",
        "from sklearn.ensemble import RandomForestRegressor # Random Forest Model\n",
        "from sklearn.decomposition import PCA #PCA analysis\n",
        "from sklearn import svm # Support Vector Machine Model\n",
        "import xgboost as xgb #XG Boost Model\n",
        "from sklearn.metrics import f1_score\n",
        "\n",
        "\n",
        "from sklearn.preprocessing import StandardScaler #Z-score variables\n",
        "from sklearn.metrics import accuracy_score, confusion_matrix, plot_confusion_matrix, mean_squared_error #more evaluation metrics\n",
        "from sklearn.model_selection import train_test_split #train test split\n",
        "\n",
        "from sklearn.model_selection import KFold # k-fold cv\n",
        "from sklearn.model_selection import LeaveOneOut #LOO cv\n",
        "from sklearn.model_selection import cross_val_score # cross validation metrics\n",
        "from sklearn.model_selection import cross_val_predict # cross validation metrics\n",
        "\n",
        "import tensorflow as tf\n",
        "from tensorflow.keras.models import Sequential\n",
        "from tensorflow.keras.layers import Dense\n",
        "from tensorflow.keras.layers import LSTM\n",
        "from tensorflow.keras.metrics import RootMeanSquaredError"
      ]
    },
    {
      "cell_type": "code",
      "execution_count": null,
      "metadata": {
        "id": "zGYV1sRScHvP"
      },
      "outputs": [],
      "source": [
        "#Load the train and test sets\n",
        "train = pd.read_csv('train_data.csv')\n",
        "test = pd.read_csv('test_data.csv')"
      ]
    },
    {
      "cell_type": "markdown",
      "metadata": {
        "id": "PYGx7hqPcxqw"
      },
      "source": [
        "**Pre-Cleaning Data Exploration**"
      ]
    },
    {
      "cell_type": "code",
      "execution_count": null,
      "metadata": {
        "colab": {
          "base_uri": "https://localhost:8080/"
        },
        "id": "O82O1_fobpS0",
        "outputId": "a171209f-a16c-4acf-feba-b089bb870e7c"
      },
      "outputs": [
        {
          "name": "stdout",
          "output_type": "stream",
          "text": [
            "Train Shape:  (103659, 246)\n",
            "Test Shape:  (31354, 245)\n"
          ]
        }
      ],
      "source": [
        "#Check the number of entries and features in each set\n",
        "print(\"Train Shape: \", train.shape)\n",
        "print(\"Test Shape: \", test.shape)"
      ]
    },
    {
      "cell_type": "markdown",
      "metadata": {
        "id": "36AsxctWuC5N"
      },
      "source": [
        "- As expected, the testing set has one less feature: this missing feature is the target variable that we are predicting values for"
      ]
    },
    {
      "cell_type": "code",
      "execution_count": null,
      "metadata": {
        "colab": {
          "base_uri": "https://localhost:8080/",
          "height": 365
        },
        "id": "UQZuSk8kcaNx",
        "outputId": "1110f48c-f2b5-494b-8d59-b5a3ffe160f5"
      },
      "outputs": [
        {
          "data": {
            "text/html": [
              "\n",
              "  <div id=\"df-43031088-d469-4de2-ba35-3d718caa8eef\">\n",
              "    <div class=\"colab-df-container\">\n",
              "      <div>\n",
              "<style scoped>\n",
              "    .dataframe tbody tr th:only-of-type {\n",
              "        vertical-align: middle;\n",
              "    }\n",
              "\n",
              "    .dataframe tbody tr th {\n",
              "        vertical-align: top;\n",
              "    }\n",
              "\n",
              "    .dataframe thead th {\n",
              "        text-align: right;\n",
              "    }\n",
              "</style>\n",
              "<table border=\"1\" class=\"dataframe\">\n",
              "  <thead>\n",
              "    <tr style=\"text-align: right;\">\n",
              "      <th></th>\n",
              "      <th>index</th>\n",
              "      <th>lat</th>\n",
              "      <th>lon</th>\n",
              "      <th>startdate</th>\n",
              "      <th>contest-pevpr-sfc-gauss-14d__pevpr</th>\n",
              "      <th>nmme0-tmp2m-34w__cancm30</th>\n",
              "      <th>nmme0-tmp2m-34w__cancm40</th>\n",
              "      <th>nmme0-tmp2m-34w__ccsm30</th>\n",
              "      <th>nmme0-tmp2m-34w__ccsm40</th>\n",
              "      <th>nmme0-tmp2m-34w__cfsv20</th>\n",
              "      <th>...</th>\n",
              "      <th>wind-vwnd-925-2010-11</th>\n",
              "      <th>wind-vwnd-925-2010-12</th>\n",
              "      <th>wind-vwnd-925-2010-13</th>\n",
              "      <th>wind-vwnd-925-2010-14</th>\n",
              "      <th>wind-vwnd-925-2010-15</th>\n",
              "      <th>wind-vwnd-925-2010-16</th>\n",
              "      <th>wind-vwnd-925-2010-17</th>\n",
              "      <th>wind-vwnd-925-2010-18</th>\n",
              "      <th>wind-vwnd-925-2010-19</th>\n",
              "      <th>wind-vwnd-925-2010-20</th>\n",
              "    </tr>\n",
              "  </thead>\n",
              "  <tbody>\n",
              "    <tr>\n",
              "      <th>0</th>\n",
              "      <td>0</td>\n",
              "      <td>0.0</td>\n",
              "      <td>0.833333</td>\n",
              "      <td>9/1/14</td>\n",
              "      <td>237.00</td>\n",
              "      <td>29.02</td>\n",
              "      <td>31.64</td>\n",
              "      <td>29.57</td>\n",
              "      <td>30.73</td>\n",
              "      <td>29.71</td>\n",
              "      <td>...</td>\n",
              "      <td>-27.68</td>\n",
              "      <td>-37.21</td>\n",
              "      <td>8.32</td>\n",
              "      <td>9.56</td>\n",
              "      <td>-2.03</td>\n",
              "      <td>48.13</td>\n",
              "      <td>28.09</td>\n",
              "      <td>-13.50</td>\n",
              "      <td>11.90</td>\n",
              "      <td>4.58</td>\n",
              "    </tr>\n",
              "    <tr>\n",
              "      <th>1</th>\n",
              "      <td>1</td>\n",
              "      <td>0.0</td>\n",
              "      <td>0.833333</td>\n",
              "      <td>9/2/14</td>\n",
              "      <td>228.90</td>\n",
              "      <td>29.02</td>\n",
              "      <td>31.64</td>\n",
              "      <td>29.57</td>\n",
              "      <td>30.73</td>\n",
              "      <td>29.71</td>\n",
              "      <td>...</td>\n",
              "      <td>-21.13</td>\n",
              "      <td>-36.57</td>\n",
              "      <td>8.77</td>\n",
              "      <td>21.17</td>\n",
              "      <td>4.44</td>\n",
              "      <td>48.60</td>\n",
              "      <td>27.41</td>\n",
              "      <td>-23.77</td>\n",
              "      <td>15.44</td>\n",
              "      <td>3.42</td>\n",
              "    </tr>\n",
              "    <tr>\n",
              "      <th>2</th>\n",
              "      <td>2</td>\n",
              "      <td>0.0</td>\n",
              "      <td>0.833333</td>\n",
              "      <td>9/3/14</td>\n",
              "      <td>220.69</td>\n",
              "      <td>29.02</td>\n",
              "      <td>31.64</td>\n",
              "      <td>29.57</td>\n",
              "      <td>30.73</td>\n",
              "      <td>29.71</td>\n",
              "      <td>...</td>\n",
              "      <td>-10.72</td>\n",
              "      <td>-34.16</td>\n",
              "      <td>6.99</td>\n",
              "      <td>32.16</td>\n",
              "      <td>5.01</td>\n",
              "      <td>48.53</td>\n",
              "      <td>19.21</td>\n",
              "      <td>-33.16</td>\n",
              "      <td>15.11</td>\n",
              "      <td>4.82</td>\n",
              "    </tr>\n",
              "    <tr>\n",
              "      <th>3</th>\n",
              "      <td>3</td>\n",
              "      <td>0.0</td>\n",
              "      <td>0.833333</td>\n",
              "      <td>9/4/14</td>\n",
              "      <td>225.28</td>\n",
              "      <td>29.02</td>\n",
              "      <td>31.64</td>\n",
              "      <td>29.57</td>\n",
              "      <td>30.73</td>\n",
              "      <td>29.71</td>\n",
              "      <td>...</td>\n",
              "      <td>0.33</td>\n",
              "      <td>-31.04</td>\n",
              "      <td>6.17</td>\n",
              "      <td>39.66</td>\n",
              "      <td>-1.41</td>\n",
              "      <td>50.59</td>\n",
              "      <td>8.29</td>\n",
              "      <td>-37.22</td>\n",
              "      <td>18.24</td>\n",
              "      <td>9.74</td>\n",
              "    </tr>\n",
              "    <tr>\n",
              "      <th>4</th>\n",
              "      <td>4</td>\n",
              "      <td>0.0</td>\n",
              "      <td>0.833333</td>\n",
              "      <td>9/5/14</td>\n",
              "      <td>237.24</td>\n",
              "      <td>29.02</td>\n",
              "      <td>31.64</td>\n",
              "      <td>29.57</td>\n",
              "      <td>30.73</td>\n",
              "      <td>29.71</td>\n",
              "      <td>...</td>\n",
              "      <td>9.83</td>\n",
              "      <td>-31.80</td>\n",
              "      <td>7.47</td>\n",
              "      <td>38.62</td>\n",
              "      <td>-5.21</td>\n",
              "      <td>54.73</td>\n",
              "      <td>-2.58</td>\n",
              "      <td>-42.30</td>\n",
              "      <td>21.91</td>\n",
              "      <td>10.95</td>\n",
              "    </tr>\n",
              "  </tbody>\n",
              "</table>\n",
              "<p>5 rows × 246 columns</p>\n",
              "</div>\n",
              "      <button class=\"colab-df-convert\" onclick=\"convertToInteractive('df-43031088-d469-4de2-ba35-3d718caa8eef')\"\n",
              "              title=\"Convert this dataframe to an interactive table.\"\n",
              "              style=\"display:none;\">\n",
              "        \n",
              "  <svg xmlns=\"http://www.w3.org/2000/svg\" height=\"24px\"viewBox=\"0 0 24 24\"\n",
              "       width=\"24px\">\n",
              "    <path d=\"M0 0h24v24H0V0z\" fill=\"none\"/>\n",
              "    <path d=\"M18.56 5.44l.94 2.06.94-2.06 2.06-.94-2.06-.94-.94-2.06-.94 2.06-2.06.94zm-11 1L8.5 8.5l.94-2.06 2.06-.94-2.06-.94L8.5 2.5l-.94 2.06-2.06.94zm10 10l.94 2.06.94-2.06 2.06-.94-2.06-.94-.94-2.06-.94 2.06-2.06.94z\"/><path d=\"M17.41 7.96l-1.37-1.37c-.4-.4-.92-.59-1.43-.59-.52 0-1.04.2-1.43.59L10.3 9.45l-7.72 7.72c-.78.78-.78 2.05 0 2.83L4 21.41c.39.39.9.59 1.41.59.51 0 1.02-.2 1.41-.59l7.78-7.78 2.81-2.81c.8-.78.8-2.07 0-2.86zM5.41 20L4 18.59l7.72-7.72 1.47 1.35L5.41 20z\"/>\n",
              "  </svg>\n",
              "      </button>\n",
              "      \n",
              "  <style>\n",
              "    .colab-df-container {\n",
              "      display:flex;\n",
              "      flex-wrap:wrap;\n",
              "      gap: 12px;\n",
              "    }\n",
              "\n",
              "    .colab-df-convert {\n",
              "      background-color: #E8F0FE;\n",
              "      border: none;\n",
              "      border-radius: 50%;\n",
              "      cursor: pointer;\n",
              "      display: none;\n",
              "      fill: #1967D2;\n",
              "      height: 32px;\n",
              "      padding: 0 0 0 0;\n",
              "      width: 32px;\n",
              "    }\n",
              "\n",
              "    .colab-df-convert:hover {\n",
              "      background-color: #E2EBFA;\n",
              "      box-shadow: 0px 1px 2px rgba(60, 64, 67, 0.3), 0px 1px 3px 1px rgba(60, 64, 67, 0.15);\n",
              "      fill: #174EA6;\n",
              "    }\n",
              "\n",
              "    [theme=dark] .colab-df-convert {\n",
              "      background-color: #3B4455;\n",
              "      fill: #D2E3FC;\n",
              "    }\n",
              "\n",
              "    [theme=dark] .colab-df-convert:hover {\n",
              "      background-color: #434B5C;\n",
              "      box-shadow: 0px 1px 3px 1px rgba(0, 0, 0, 0.15);\n",
              "      filter: drop-shadow(0px 1px 2px rgba(0, 0, 0, 0.3));\n",
              "      fill: #FFFFFF;\n",
              "    }\n",
              "  </style>\n",
              "\n",
              "      <script>\n",
              "        const buttonEl =\n",
              "          document.querySelector('#df-43031088-d469-4de2-ba35-3d718caa8eef button.colab-df-convert');\n",
              "        buttonEl.style.display =\n",
              "          google.colab.kernel.accessAllowed ? 'block' : 'none';\n",
              "\n",
              "        async function convertToInteractive(key) {\n",
              "          const element = document.querySelector('#df-43031088-d469-4de2-ba35-3d718caa8eef');\n",
              "          const dataTable =\n",
              "            await google.colab.kernel.invokeFunction('convertToInteractive',\n",
              "                                                     [key], {});\n",
              "          if (!dataTable) return;\n",
              "\n",
              "          const docLinkHtml = 'Like what you see? Visit the ' +\n",
              "            '<a target=\"_blank\" href=https://colab.research.google.com/notebooks/data_table.ipynb>data table notebook</a>'\n",
              "            + ' to learn more about interactive tables.';\n",
              "          element.innerHTML = '';\n",
              "          dataTable['output_type'] = 'display_data';\n",
              "          await google.colab.output.renderOutput(dataTable, element);\n",
              "          const docLink = document.createElement('div');\n",
              "          docLink.innerHTML = docLinkHtml;\n",
              "          element.appendChild(docLink);\n",
              "        }\n",
              "      </script>\n",
              "    </div>\n",
              "  </div>\n",
              "  "
            ],
            "text/plain": [
              "   index  lat       lon startdate  contest-pevpr-sfc-gauss-14d__pevpr  \\\n",
              "0      0  0.0  0.833333    9/1/14                              237.00   \n",
              "1      1  0.0  0.833333    9/2/14                              228.90   \n",
              "2      2  0.0  0.833333    9/3/14                              220.69   \n",
              "3      3  0.0  0.833333    9/4/14                              225.28   \n",
              "4      4  0.0  0.833333    9/5/14                              237.24   \n",
              "\n",
              "   nmme0-tmp2m-34w__cancm30  nmme0-tmp2m-34w__cancm40  \\\n",
              "0                     29.02                     31.64   \n",
              "1                     29.02                     31.64   \n",
              "2                     29.02                     31.64   \n",
              "3                     29.02                     31.64   \n",
              "4                     29.02                     31.64   \n",
              "\n",
              "   nmme0-tmp2m-34w__ccsm30  nmme0-tmp2m-34w__ccsm40  nmme0-tmp2m-34w__cfsv20  \\\n",
              "0                    29.57                    30.73                    29.71   \n",
              "1                    29.57                    30.73                    29.71   \n",
              "2                    29.57                    30.73                    29.71   \n",
              "3                    29.57                    30.73                    29.71   \n",
              "4                    29.57                    30.73                    29.71   \n",
              "\n",
              "   ...  wind-vwnd-925-2010-11  wind-vwnd-925-2010-12  wind-vwnd-925-2010-13  \\\n",
              "0  ...                 -27.68                 -37.21                   8.32   \n",
              "1  ...                 -21.13                 -36.57                   8.77   \n",
              "2  ...                 -10.72                 -34.16                   6.99   \n",
              "3  ...                   0.33                 -31.04                   6.17   \n",
              "4  ...                   9.83                 -31.80                   7.47   \n",
              "\n",
              "   wind-vwnd-925-2010-14  wind-vwnd-925-2010-15  wind-vwnd-925-2010-16  \\\n",
              "0                   9.56                  -2.03                  48.13   \n",
              "1                  21.17                   4.44                  48.60   \n",
              "2                  32.16                   5.01                  48.53   \n",
              "3                  39.66                  -1.41                  50.59   \n",
              "4                  38.62                  -5.21                  54.73   \n",
              "\n",
              "   wind-vwnd-925-2010-17  wind-vwnd-925-2010-18  wind-vwnd-925-2010-19  \\\n",
              "0                  28.09                 -13.50                  11.90   \n",
              "1                  27.41                 -23.77                  15.44   \n",
              "2                  19.21                 -33.16                  15.11   \n",
              "3                   8.29                 -37.22                  18.24   \n",
              "4                  -2.58                 -42.30                  21.91   \n",
              "\n",
              "   wind-vwnd-925-2010-20  \n",
              "0                   4.58  \n",
              "1                   3.42  \n",
              "2                   4.82  \n",
              "3                   9.74  \n",
              "4                  10.95  \n",
              "\n",
              "[5 rows x 246 columns]"
            ]
          },
          "execution_count": 6,
          "metadata": {},
          "output_type": "execute_result"
        }
      ],
      "source": [
        "#View the first 5 entries in the set to visualize the data\n",
        "train.head()"
      ]
    },
    {
      "cell_type": "code",
      "execution_count": null,
      "metadata": {
        "colab": {
          "base_uri": "https://localhost:8080/",
          "height": 441
        },
        "id": "xCwgck5Hcekn",
        "outputId": "8da02aad-5541-4aa2-8250-80b9bc28328a"
      },
      "outputs": [
        {
          "data": {
            "text/html": [
              "\n",
              "  <div id=\"df-1b5a9dfc-dc69-44ce-8467-353d938a4d6d\">\n",
              "    <div class=\"colab-df-container\">\n",
              "      <div>\n",
              "<style scoped>\n",
              "    .dataframe tbody tr th:only-of-type {\n",
              "        vertical-align: middle;\n",
              "    }\n",
              "\n",
              "    .dataframe tbody tr th {\n",
              "        vertical-align: top;\n",
              "    }\n",
              "\n",
              "    .dataframe thead th {\n",
              "        text-align: right;\n",
              "    }\n",
              "</style>\n",
              "<table border=\"1\" class=\"dataframe\">\n",
              "  <thead>\n",
              "    <tr style=\"text-align: right;\">\n",
              "      <th></th>\n",
              "      <th>index</th>\n",
              "      <th>lat</th>\n",
              "      <th>lon</th>\n",
              "      <th>contest-pevpr-sfc-gauss-14d__pevpr</th>\n",
              "      <th>nmme0-tmp2m-34w__cancm30</th>\n",
              "      <th>nmme0-tmp2m-34w__cancm40</th>\n",
              "      <th>nmme0-tmp2m-34w__ccsm30</th>\n",
              "      <th>nmme0-tmp2m-34w__ccsm40</th>\n",
              "      <th>nmme0-tmp2m-34w__cfsv20</th>\n",
              "      <th>nmme0-tmp2m-34w__gfdlflora0</th>\n",
              "      <th>...</th>\n",
              "      <th>wind-vwnd-925-2010-11</th>\n",
              "      <th>wind-vwnd-925-2010-12</th>\n",
              "      <th>wind-vwnd-925-2010-13</th>\n",
              "      <th>wind-vwnd-925-2010-14</th>\n",
              "      <th>wind-vwnd-925-2010-15</th>\n",
              "      <th>wind-vwnd-925-2010-16</th>\n",
              "      <th>wind-vwnd-925-2010-17</th>\n",
              "      <th>wind-vwnd-925-2010-18</th>\n",
              "      <th>wind-vwnd-925-2010-19</th>\n",
              "      <th>wind-vwnd-925-2010-20</th>\n",
              "    </tr>\n",
              "  </thead>\n",
              "  <tbody>\n",
              "    <tr>\n",
              "      <th>count</th>\n",
              "      <td>6518.000000</td>\n",
              "      <td>6518.000000</td>\n",
              "      <td>6518.000000</td>\n",
              "      <td>6518.000000</td>\n",
              "      <td>6518.000000</td>\n",
              "      <td>6518.000000</td>\n",
              "      <td>6239.000000</td>\n",
              "      <td>6518.000000</td>\n",
              "      <td>6518.000000</td>\n",
              "      <td>6518.000000</td>\n",
              "      <td>...</td>\n",
              "      <td>6517.000000</td>\n",
              "      <td>6517.000000</td>\n",
              "      <td>6517.000000</td>\n",
              "      <td>6517.000000</td>\n",
              "      <td>6517.000000</td>\n",
              "      <td>6517.000000</td>\n",
              "      <td>6517.000000</td>\n",
              "      <td>6517.000000</td>\n",
              "      <td>6517.000000</td>\n",
              "      <td>6517.000000</td>\n",
              "    </tr>\n",
              "    <tr>\n",
              "      <th>mean</th>\n",
              "      <td>3258.500000</td>\n",
              "      <td>0.055225</td>\n",
              "      <td>0.855140</td>\n",
              "      <td>291.630577</td>\n",
              "      <td>21.032410</td>\n",
              "      <td>23.586319</td>\n",
              "      <td>20.208771</td>\n",
              "      <td>21.856447</td>\n",
              "      <td>19.543245</td>\n",
              "      <td>22.178573</td>\n",
              "      <td>...</td>\n",
              "      <td>-1.129267</td>\n",
              "      <td>-8.010826</td>\n",
              "      <td>6.834488</td>\n",
              "      <td>19.325572</td>\n",
              "      <td>-17.661094</td>\n",
              "      <td>-9.915125</td>\n",
              "      <td>-6.335521</td>\n",
              "      <td>15.785739</td>\n",
              "      <td>10.530890</td>\n",
              "      <td>11.403491</td>\n",
              "    </tr>\n",
              "    <tr>\n",
              "      <th>std</th>\n",
              "      <td>1881.728859</td>\n",
              "      <td>0.035717</td>\n",
              "      <td>0.031279</td>\n",
              "      <td>126.513845</td>\n",
              "      <td>7.393149</td>\n",
              "      <td>7.244828</td>\n",
              "      <td>6.884334</td>\n",
              "      <td>6.602167</td>\n",
              "      <td>6.216076</td>\n",
              "      <td>7.444619</td>\n",
              "      <td>...</td>\n",
              "      <td>37.418362</td>\n",
              "      <td>36.220839</td>\n",
              "      <td>38.624900</td>\n",
              "      <td>25.320990</td>\n",
              "      <td>31.986905</td>\n",
              "      <td>34.125204</td>\n",
              "      <td>27.107836</td>\n",
              "      <td>25.810011</td>\n",
              "      <td>25.087993</td>\n",
              "      <td>25.122143</td>\n",
              "    </tr>\n",
              "    <tr>\n",
              "      <th>min</th>\n",
              "      <td>0.000000</td>\n",
              "      <td>0.000000</td>\n",
              "      <td>0.800000</td>\n",
              "      <td>98.250000</td>\n",
              "      <td>5.960000</td>\n",
              "      <td>9.080000</td>\n",
              "      <td>7.240000</td>\n",
              "      <td>8.100000</td>\n",
              "      <td>7.490000</td>\n",
              "      <td>10.010000</td>\n",
              "      <td>...</td>\n",
              "      <td>-94.570000</td>\n",
              "      <td>-89.940000</td>\n",
              "      <td>-64.870000</td>\n",
              "      <td>-39.280000</td>\n",
              "      <td>-100.560000</td>\n",
              "      <td>-106.080000</td>\n",
              "      <td>-93.980000</td>\n",
              "      <td>-52.610000</td>\n",
              "      <td>-66.110000</td>\n",
              "      <td>-57.610000</td>\n",
              "    </tr>\n",
              "    <tr>\n",
              "      <th>25%</th>\n",
              "      <td>1629.250000</td>\n",
              "      <td>0.045455</td>\n",
              "      <td>0.833333</td>\n",
              "      <td>195.872500</td>\n",
              "      <td>14.370000</td>\n",
              "      <td>17.290000</td>\n",
              "      <td>13.850000</td>\n",
              "      <td>15.480000</td>\n",
              "      <td>14.060000</td>\n",
              "      <td>15.150000</td>\n",
              "      <td>...</td>\n",
              "      <td>-27.200000</td>\n",
              "      <td>-33.290000</td>\n",
              "      <td>-20.000000</td>\n",
              "      <td>2.080000</td>\n",
              "      <td>-40.030000</td>\n",
              "      <td>-32.170000</td>\n",
              "      <td>-20.250000</td>\n",
              "      <td>-0.460000</td>\n",
              "      <td>-6.750000</td>\n",
              "      <td>-5.090000</td>\n",
              "    </tr>\n",
              "    <tr>\n",
              "      <th>50%</th>\n",
              "      <td>3258.500000</td>\n",
              "      <td>0.045455</td>\n",
              "      <td>0.866667</td>\n",
              "      <td>270.170000</td>\n",
              "      <td>22.650000</td>\n",
              "      <td>25.470000</td>\n",
              "      <td>20.720000</td>\n",
              "      <td>23.030000</td>\n",
              "      <td>19.960000</td>\n",
              "      <td>22.740000</td>\n",
              "      <td>...</td>\n",
              "      <td>-2.900000</td>\n",
              "      <td>-9.230000</td>\n",
              "      <td>2.330000</td>\n",
              "      <td>20.060000</td>\n",
              "      <td>-16.710000</td>\n",
              "      <td>-8.560000</td>\n",
              "      <td>-6.060000</td>\n",
              "      <td>18.490000</td>\n",
              "      <td>11.900000</td>\n",
              "      <td>11.680000</td>\n",
              "    </tr>\n",
              "    <tr>\n",
              "      <th>75%</th>\n",
              "      <td>4887.750000</td>\n",
              "      <td>0.090909</td>\n",
              "      <td>0.866667</td>\n",
              "      <td>354.587500</td>\n",
              "      <td>27.810000</td>\n",
              "      <td>30.820000</td>\n",
              "      <td>26.370000</td>\n",
              "      <td>27.930000</td>\n",
              "      <td>25.410000</td>\n",
              "      <td>29.420000</td>\n",
              "      <td>...</td>\n",
              "      <td>25.050000</td>\n",
              "      <td>17.960000</td>\n",
              "      <td>29.080000</td>\n",
              "      <td>35.120000</td>\n",
              "      <td>4.390000</td>\n",
              "      <td>10.440000</td>\n",
              "      <td>11.620000</td>\n",
              "      <td>30.840000</td>\n",
              "      <td>29.040000</td>\n",
              "      <td>29.360000</td>\n",
              "    </tr>\n",
              "    <tr>\n",
              "      <th>max</th>\n",
              "      <td>6517.000000</td>\n",
              "      <td>0.090909</td>\n",
              "      <td>0.900000</td>\n",
              "      <td>699.380000</td>\n",
              "      <td>31.730000</td>\n",
              "      <td>33.230000</td>\n",
              "      <td>31.660000</td>\n",
              "      <td>31.580000</td>\n",
              "      <td>29.710000</td>\n",
              "      <td>33.500000</td>\n",
              "      <td>...</td>\n",
              "      <td>113.920000</td>\n",
              "      <td>96.550000</td>\n",
              "      <td>106.420000</td>\n",
              "      <td>91.760000</td>\n",
              "      <td>56.550000</td>\n",
              "      <td>83.890000</td>\n",
              "      <td>64.850000</td>\n",
              "      <td>90.390000</td>\n",
              "      <td>76.890000</td>\n",
              "      <td>88.660000</td>\n",
              "    </tr>\n",
              "  </tbody>\n",
              "</table>\n",
              "<p>8 rows × 244 columns</p>\n",
              "</div>\n",
              "      <button class=\"colab-df-convert\" onclick=\"convertToInteractive('df-1b5a9dfc-dc69-44ce-8467-353d938a4d6d')\"\n",
              "              title=\"Convert this dataframe to an interactive table.\"\n",
              "              style=\"display:none;\">\n",
              "        \n",
              "  <svg xmlns=\"http://www.w3.org/2000/svg\" height=\"24px\"viewBox=\"0 0 24 24\"\n",
              "       width=\"24px\">\n",
              "    <path d=\"M0 0h24v24H0V0z\" fill=\"none\"/>\n",
              "    <path d=\"M18.56 5.44l.94 2.06.94-2.06 2.06-.94-2.06-.94-.94-2.06-.94 2.06-2.06.94zm-11 1L8.5 8.5l.94-2.06 2.06-.94-2.06-.94L8.5 2.5l-.94 2.06-2.06.94zm10 10l.94 2.06.94-2.06 2.06-.94-2.06-.94-.94-2.06-.94 2.06-2.06.94z\"/><path d=\"M17.41 7.96l-1.37-1.37c-.4-.4-.92-.59-1.43-.59-.52 0-1.04.2-1.43.59L10.3 9.45l-7.72 7.72c-.78.78-.78 2.05 0 2.83L4 21.41c.39.39.9.59 1.41.59.51 0 1.02-.2 1.41-.59l7.78-7.78 2.81-2.81c.8-.78.8-2.07 0-2.86zM5.41 20L4 18.59l7.72-7.72 1.47 1.35L5.41 20z\"/>\n",
              "  </svg>\n",
              "      </button>\n",
              "      \n",
              "  <style>\n",
              "    .colab-df-container {\n",
              "      display:flex;\n",
              "      flex-wrap:wrap;\n",
              "      gap: 12px;\n",
              "    }\n",
              "\n",
              "    .colab-df-convert {\n",
              "      background-color: #E8F0FE;\n",
              "      border: none;\n",
              "      border-radius: 50%;\n",
              "      cursor: pointer;\n",
              "      display: none;\n",
              "      fill: #1967D2;\n",
              "      height: 32px;\n",
              "      padding: 0 0 0 0;\n",
              "      width: 32px;\n",
              "    }\n",
              "\n",
              "    .colab-df-convert:hover {\n",
              "      background-color: #E2EBFA;\n",
              "      box-shadow: 0px 1px 2px rgba(60, 64, 67, 0.3), 0px 1px 3px 1px rgba(60, 64, 67, 0.15);\n",
              "      fill: #174EA6;\n",
              "    }\n",
              "\n",
              "    [theme=dark] .colab-df-convert {\n",
              "      background-color: #3B4455;\n",
              "      fill: #D2E3FC;\n",
              "    }\n",
              "\n",
              "    [theme=dark] .colab-df-convert:hover {\n",
              "      background-color: #434B5C;\n",
              "      box-shadow: 0px 1px 3px 1px rgba(0, 0, 0, 0.15);\n",
              "      filter: drop-shadow(0px 1px 2px rgba(0, 0, 0, 0.3));\n",
              "      fill: #FFFFFF;\n",
              "    }\n",
              "  </style>\n",
              "\n",
              "      <script>\n",
              "        const buttonEl =\n",
              "          document.querySelector('#df-1b5a9dfc-dc69-44ce-8467-353d938a4d6d button.colab-df-convert');\n",
              "        buttonEl.style.display =\n",
              "          google.colab.kernel.accessAllowed ? 'block' : 'none';\n",
              "\n",
              "        async function convertToInteractive(key) {\n",
              "          const element = document.querySelector('#df-1b5a9dfc-dc69-44ce-8467-353d938a4d6d');\n",
              "          const dataTable =\n",
              "            await google.colab.kernel.invokeFunction('convertToInteractive',\n",
              "                                                     [key], {});\n",
              "          if (!dataTable) return;\n",
              "\n",
              "          const docLinkHtml = 'Like what you see? Visit the ' +\n",
              "            '<a target=\"_blank\" href=https://colab.research.google.com/notebooks/data_table.ipynb>data table notebook</a>'\n",
              "            + ' to learn more about interactive tables.';\n",
              "          element.innerHTML = '';\n",
              "          dataTable['output_type'] = 'display_data';\n",
              "          await google.colab.output.renderOutput(dataTable, element);\n",
              "          const docLink = document.createElement('div');\n",
              "          docLink.innerHTML = docLinkHtml;\n",
              "          element.appendChild(docLink);\n",
              "        }\n",
              "      </script>\n",
              "    </div>\n",
              "  </div>\n",
              "  "
            ],
            "text/plain": [
              "             index          lat          lon  \\\n",
              "count  6518.000000  6518.000000  6518.000000   \n",
              "mean   3258.500000     0.055225     0.855140   \n",
              "std    1881.728859     0.035717     0.031279   \n",
              "min       0.000000     0.000000     0.800000   \n",
              "25%    1629.250000     0.045455     0.833333   \n",
              "50%    3258.500000     0.045455     0.866667   \n",
              "75%    4887.750000     0.090909     0.866667   \n",
              "max    6517.000000     0.090909     0.900000   \n",
              "\n",
              "       contest-pevpr-sfc-gauss-14d__pevpr  nmme0-tmp2m-34w__cancm30  \\\n",
              "count                         6518.000000               6518.000000   \n",
              "mean                           291.630577                 21.032410   \n",
              "std                            126.513845                  7.393149   \n",
              "min                             98.250000                  5.960000   \n",
              "25%                            195.872500                 14.370000   \n",
              "50%                            270.170000                 22.650000   \n",
              "75%                            354.587500                 27.810000   \n",
              "max                            699.380000                 31.730000   \n",
              "\n",
              "       nmme0-tmp2m-34w__cancm40  nmme0-tmp2m-34w__ccsm30  \\\n",
              "count               6518.000000              6239.000000   \n",
              "mean                  23.586319                20.208771   \n",
              "std                    7.244828                 6.884334   \n",
              "min                    9.080000                 7.240000   \n",
              "25%                   17.290000                13.850000   \n",
              "50%                   25.470000                20.720000   \n",
              "75%                   30.820000                26.370000   \n",
              "max                   33.230000                31.660000   \n",
              "\n",
              "       nmme0-tmp2m-34w__ccsm40  nmme0-tmp2m-34w__cfsv20  \\\n",
              "count              6518.000000              6518.000000   \n",
              "mean                 21.856447                19.543245   \n",
              "std                   6.602167                 6.216076   \n",
              "min                   8.100000                 7.490000   \n",
              "25%                  15.480000                14.060000   \n",
              "50%                  23.030000                19.960000   \n",
              "75%                  27.930000                25.410000   \n",
              "max                  31.580000                29.710000   \n",
              "\n",
              "       nmme0-tmp2m-34w__gfdlflora0  ...  wind-vwnd-925-2010-11  \\\n",
              "count                  6518.000000  ...            6517.000000   \n",
              "mean                     22.178573  ...              -1.129267   \n",
              "std                       7.444619  ...              37.418362   \n",
              "min                      10.010000  ...             -94.570000   \n",
              "25%                      15.150000  ...             -27.200000   \n",
              "50%                      22.740000  ...              -2.900000   \n",
              "75%                      29.420000  ...              25.050000   \n",
              "max                      33.500000  ...             113.920000   \n",
              "\n",
              "       wind-vwnd-925-2010-12  wind-vwnd-925-2010-13  wind-vwnd-925-2010-14  \\\n",
              "count            6517.000000            6517.000000            6517.000000   \n",
              "mean               -8.010826               6.834488              19.325572   \n",
              "std                36.220839              38.624900              25.320990   \n",
              "min               -89.940000             -64.870000             -39.280000   \n",
              "25%               -33.290000             -20.000000               2.080000   \n",
              "50%                -9.230000               2.330000              20.060000   \n",
              "75%                17.960000              29.080000              35.120000   \n",
              "max                96.550000             106.420000              91.760000   \n",
              "\n",
              "       wind-vwnd-925-2010-15  wind-vwnd-925-2010-16  wind-vwnd-925-2010-17  \\\n",
              "count            6517.000000            6517.000000            6517.000000   \n",
              "mean              -17.661094              -9.915125              -6.335521   \n",
              "std                31.986905              34.125204              27.107836   \n",
              "min              -100.560000            -106.080000             -93.980000   \n",
              "25%               -40.030000             -32.170000             -20.250000   \n",
              "50%               -16.710000              -8.560000              -6.060000   \n",
              "75%                 4.390000              10.440000              11.620000   \n",
              "max                56.550000              83.890000              64.850000   \n",
              "\n",
              "       wind-vwnd-925-2010-18  wind-vwnd-925-2010-19  wind-vwnd-925-2010-20  \n",
              "count            6517.000000            6517.000000            6517.000000  \n",
              "mean               15.785739              10.530890              11.403491  \n",
              "std                25.810011              25.087993              25.122143  \n",
              "min               -52.610000             -66.110000             -57.610000  \n",
              "25%                -0.460000              -6.750000              -5.090000  \n",
              "50%                18.490000              11.900000              11.680000  \n",
              "75%                30.840000              29.040000              29.360000  \n",
              "max                90.390000              76.890000              88.660000  \n",
              "\n",
              "[8 rows x 244 columns]"
            ]
          },
          "execution_count": 7,
          "metadata": {},
          "output_type": "execute_result"
        }
      ],
      "source": [
        "#Create basic summary statistics of the data set\n",
        "train.describe()"
      ]
    },
    {
      "cell_type": "markdown",
      "metadata": {
        "id": "_QcDq0FIujG1"
      },
      "source": [
        "Notes from .head() and .describe() Functions:\n",
        "- Latitude and Longitude are mapped to a range of 0 to 1, perhaps using a sigmoid function\n",
        "- Index begins count at 0\n",
        "- Features have entries that are both positive and negative numbers\n"
      ]
    },
    {
      "cell_type": "code",
      "execution_count": null,
      "metadata": {
        "colab": {
          "base_uri": "https://localhost:8080/"
        },
        "id": "TvOvHYcRdty9",
        "outputId": "4446ceb5-be85-4b06-a457-f46c633642fb"
      },
      "outputs": [
        {
          "data": {
            "text/plain": [
              "index                                   int64\n",
              "lat                                   float64\n",
              "lon                                   float64\n",
              "startdate                              object\n",
              "contest-pevpr-sfc-gauss-14d__pevpr    float64\n",
              "                                       ...   \n",
              "wind-vwnd-925-2010-16                 float64\n",
              "wind-vwnd-925-2010-17                 float64\n",
              "wind-vwnd-925-2010-18                 float64\n",
              "wind-vwnd-925-2010-19                 float64\n",
              "wind-vwnd-925-2010-20                 float64\n",
              "Length: 246, dtype: object"
            ]
          },
          "execution_count": 8,
          "metadata": {},
          "output_type": "execute_result"
        }
      ],
      "source": [
        "#Check the data types of variables\n",
        "train.dtypes"
      ]
    },
    {
      "cell_type": "markdown",
      "metadata": {
        "id": "sV_l4t_vv0lf"
      },
      "source": [
        "- [startdate] is an object, not a datetime variable, nor is it a numerical value"
      ]
    },
    {
      "cell_type": "code",
      "execution_count": null,
      "metadata": {
        "colab": {
          "base_uri": "https://localhost:8080/"
        },
        "id": "rYjVO329fCPy",
        "outputId": "9f44f2d0-37e7-4d5a-d1f1-9b3b39ecc063"
      },
      "outputs": [
        {
          "name": "stdout",
          "output_type": "stream",
          "text": [
            "Index Type:  int64\n",
            "Output Var Type:  float64\n"
          ]
        }
      ],
      "source": [
        "#Check dtype of:\n",
        "#index: make sure that it's an int\n",
        "#target variable: determine what we are predicting\n",
        "print(\"Index Type: \", train['index'].dtype)\n",
        "print(\"Output Var Type: \", train['contest-tmp2m-14d__tmp2m'].dtype)"
      ]
    },
    {
      "cell_type": "markdown",
      "metadata": {
        "id": "nUKqmzREio4x"
      },
      "source": [
        "#Data Cleaning and Further Dataset Analysis"
      ]
    },
    {
      "cell_type": "markdown",
      "metadata": {
        "id": "gRqVmDM-c3N6"
      },
      "source": [
        "**Data Cleaning**"
      ]
    },
    {
      "cell_type": "markdown",
      "metadata": {
        "id": "euh0cmDDyARw"
      },
      "source": [
        "To begin, combine the training and test sets (while storing the lengths of each set) into one dataframe. This lessens the number of cleaning operations we must perform."
      ]
    },
    {
      "cell_type": "code",
      "execution_count": null,
      "metadata": {
        "id": "tKu32uytUG1X"
      },
      "outputs": [],
      "source": [
        "trainLen = len(train)\n",
        "testLen = len(test)\n",
        "combined = pd.concat([train, test], axis = 0)"
      ]
    },
    {
      "cell_type": "code",
      "execution_count": null,
      "metadata": {
        "id": "zWTn8FhQc6O6"
      },
      "outputs": [],
      "source": [
        "#Changing startdate variable to usable datetime type\n",
        "combined.startdate = pd.to_datetime(combined.startdate)"
      ]
    },
    {
      "cell_type": "code",
      "execution_count": null,
      "metadata": {
        "id": "X_Qf9JujljCM"
      },
      "outputs": [],
      "source": [
        "#Creating new columns for separated date information\n",
        "combined['day'] = combined.startdate.dt.day\n",
        "combined['month'] = combined.startdate.dt.month\n",
        "combined['year'] = combined.startdate.dt.year"
      ]
    },
    {
      "cell_type": "code",
      "execution_count": null,
      "metadata": {
        "id": "n1sgOx9A6GLr"
      },
      "outputs": [],
      "source": [
        "#Create Season Label based on the Month in which Data was Recorded\n",
        "#Winter = 0, Spring = 1, Summer = 2, Autumn = 3\n",
        "MonthToSeason = {\n",
        "    1: 'winter',\n",
        "    2: 'winter',\n",
        "    3: 'spring',\n",
        "    4: 'spring',\n",
        "    5: 'spring',\n",
        "    6: 'summer',\n",
        "    7: 'summer',\n",
        "    8: 'summer',\n",
        "    9: 'autumn',\n",
        "    10: 'autumn',\n",
        "    11: 'autumn',\n",
        "    12: 'winter'\n",
        "}\n",
        "combined['season'] = combined['month'].apply(lambda x: MonthToSeason[x])"
      ]
    },
    {
      "cell_type": "code",
      "execution_count": null,
      "metadata": {
        "id": "sjRPHKJGgV9u"
      },
      "outputs": [],
      "source": [
        "#Using Lat/Lon info to classify each location by an ID number\n",
        "combined['unique_location'] = combined.groupby(['lat', 'lon']).ngroup()\n",
        "\n",
        "#NOTE: groupby().ngroup() = assigns a number 0 to (N groups - 1) to each group"
      ]
    },
    {
      "cell_type": "markdown",
      "metadata": {
        "id": "ue0c6KKL0ZPC"
      },
      "source": [
        "Dummy Variable Creation:"
      ]
    },
    {
      "cell_type": "code",
      "execution_count": null,
      "metadata": {
        "id": "4F6ETYo0z_aF"
      },
      "outputs": [],
      "source": [
        "#Store the season + year Columns Before Creating Dummy Variables\n",
        "seasonDF = combined['season']\n",
        "yearDF = combined['year']"
      ]
    },
    {
      "cell_type": "code",
      "execution_count": null,
      "metadata": {
        "id": "bO24ihOx78Dc"
      },
      "outputs": [],
      "source": [
        "#Creating Dummy Variables for Categorical Variables: season and year\n",
        "combined = pd.get_dummies(combined, columns = ['season'], drop_first = True)\n",
        "combined = pd.get_dummies(combined, columns = ['year'], drop_first = True)"
      ]
    },
    {
      "cell_type": "code",
      "execution_count": null,
      "metadata": {
        "id": "tWurp3IA0YJl"
      },
      "outputs": [],
      "source": [
        "#Bring the Original Columns Back into the Dataframe (for now)\n",
        "combined = pd.concat([combined, seasonDF, yearDF], axis=1) "
      ]
    },
    {
      "cell_type": "markdown",
      "metadata": {
        "id": "d6SXQwRH1WMA"
      },
      "source": [
        "Split the Training and Testing Sets Apart"
      ]
    },
    {
      "cell_type": "code",
      "execution_count": null,
      "metadata": {
        "id": "RkdxlhHA1VeN"
      },
      "outputs": [],
      "source": [
        "train = combined.iloc[:trainLen]\n",
        "test = combined.iloc[trainLen:]"
      ]
    },
    {
      "cell_type": "markdown",
      "metadata": {
        "id": "nI611sm7zC8t"
      },
      "source": [
        "**Post-Cleaning Data Exploration**"
      ]
    },
    {
      "cell_type": "markdown",
      "metadata": {
        "id": "3TZYLDS4xW1F"
      },
      "source": [
        "Plot the Data Set According to the Year in which Data is Collected"
      ]
    },
    {
      "cell_type": "code",
      "execution_count": null,
      "metadata": {
        "colab": {
          "base_uri": "https://localhost:8080/",
          "height": 180
        },
        "id": "zmljNKGpeX_x",
        "outputId": "cc32bb45-12b1-411b-885a-436015b1a2f2"
      },
      "outputs": [
        {
          "data": {
            "image/png": "[encoded data removed]",
            "text/plain": [
              "<Figure size 1152x144 with 1 Axes>"
            ]
          },
          "metadata": {},
          "output_type": "display_data"
        }
      ],
      "source": [
        "#From Kaggle Public Code: https://www.kaggle.com/code/iamleonie/wids-datathon-2023-forecasting-with-lgbm\n",
        "fig, ax = plt.subplots(1,1, figsize=(16,2))\n",
        "ax.set_title('Time Series Data')\n",
        "sns.scatterplot(data = train, x = 'startdate', y = 1, marker='o', linewidth=0, label = 'train')\n",
        "sns.scatterplot(data = test, x = 'startdate', y = 1, marker='o', linewidth=0, label = 'test')\n",
        "ax.set_xlim([train['startdate'].iloc[0], test['startdate'].iloc[-1]])\n",
        "plt.show()"
      ]
    },
    {
      "cell_type": "markdown",
      "metadata": {
        "id": "_clWfnjze7eY"
      },
      "source": [
        "- Shows a 5~ year gap in the data between the training and testing sets\n",
        "- Further indication that we should avoid overfitting to the training set\n",
        "- Seems to indicate that only certain months are present in the testing set? Yet the training set has a continuous set of data"
      ]
    },
    {
      "cell_type": "markdown",
      "metadata": {
        "id": "5BZ1OQiX5Fm1"
      },
      "source": [
        "Examining the Date Ranges of Each Set"
      ]
    },
    {
      "cell_type": "code",
      "execution_count": null,
      "metadata": {
        "colab": {
          "base_uri": "https://localhost:8080/",
          "height": 503
        },
        "id": "H3JvdlzC-UVR",
        "outputId": "0e649b1c-4749-40ea-a8f2-bffdbfbdad0f"
      },
      "outputs": [
        {
          "data": {
            "image/png": "[encoded data removed]",
            "text/plain": [
              "<Figure size 640x480 with 1 Axes>"
            ]
          },
          "metadata": {},
          "output_type": "display_data"
        },
        {
          "data": {
            "text/plain": [
              "<ggplot: (8788205244606)>"
            ]
          },
          "execution_count": 14,
          "metadata": {},
          "output_type": "execute_result"
        }
      ],
      "source": [
        "#Plot the Training Set Range\n",
        "(ggplot(train, aes(x = 1, y = \"startdate\")) \n",
        "  + geom_boxplot()\n",
        "  + theme_minimal()\n",
        "  + ggtitle(\"Range of Dates: Training Set\"))"
      ]
    },
    {
      "cell_type": "code",
      "execution_count": null,
      "metadata": {
        "colab": {
          "base_uri": "https://localhost:8080/",
          "height": 503
        },
        "id": "V9XoWkskAgfA",
        "outputId": "daf2ffa6-07b2-4b81-99ab-eb884c41ea62"
      },
      "outputs": [
        {
          "data": {
            "image/png": "[encoded data removed]",
            "text/plain": [
              "<Figure size 640x480 with 1 Axes>"
            ]
          },
          "metadata": {},
          "output_type": "display_data"
        },
        {
          "data": {
            "text/plain": [
              "<ggplot: (8788204262280)>"
            ]
          },
          "execution_count": 15,
          "metadata": {},
          "output_type": "execute_result"
        }
      ],
      "source": [
        "#Plot the Testing Set Range\n",
        "(ggplot(test, aes(x = 1, y = \"startdate\")) \n",
        "  + geom_boxplot()\n",
        "  + theme_minimal()\n",
        "  + ggtitle(\"Range of Dates: Testing Set\"))"
      ]
    },
    {
      "cell_type": "code",
      "execution_count": null,
      "metadata": {
        "colab": {
          "base_uri": "https://localhost:8080/"
        },
        "id": "1NCDDAcsA6dE",
        "outputId": "f8314207-0ec4-48ce-c084-a1e27c2ed4a4"
      },
      "outputs": [
        {
          "name": "stdout",
          "output_type": "stream",
          "text": [
            "Train Dates:\n",
            " count                   31354\n",
            "unique                     61\n",
            "top       2022-11-01 00:00:00\n",
            "freq                      514\n",
            "first     2022-11-01 00:00:00\n",
            "last      2022-12-31 00:00:00\n",
            "Name: startdate, dtype: object \n",
            "\n",
            "Test Dates:\n",
            " count                   31354\n",
            "unique                     61\n",
            "top       2022-11-01 00:00:00\n",
            "freq                      514\n",
            "first     2022-11-01 00:00:00\n",
            "last      2022-12-31 00:00:00\n",
            "Name: startdate, dtype: object\n"
          ]
        }
      ],
      "source": [
        "print(\"Train Dates:\\n\", train['startdate'].describe(), '\\n')\n",
        "print(\"Test Dates:\\n\", test['startdate'].describe())"
      ]
    },
    {
      "cell_type": "markdown",
      "metadata": {
        "id": "rN7TJ7TzApV4"
      },
      "source": [
        "Takeaways:\n",
        "- Distributions of Training and Testing Set Dates are evenly shaped\n",
        "- Training Set: September 1, 2014 --> August 31, 2016 (2 full years)\n",
        "- Testing Set: November 1, 2022 --> December 31, 2022 (2 full months)\n",
        "- We are only being evaluated on the Testing Set, so perhaps we should experiment with using a less generalizable training set that includes only the months (or seasons) that are present in the testing set (November -> December OR Fall -> Winter)"
      ]
    },
    {
      "cell_type": "markdown",
      "metadata": {
        "id": "uq9ucgzVDZHl"
      },
      "source": [
        "Examining the Target Variable By Season:"
      ]
    },
    {
      "cell_type": "code",
      "execution_count": null,
      "metadata": {
        "id": "p_-qxEI0NOkk"
      },
      "outputs": [],
      "source": [
        "#Create a new dataframe that gets average temps for each day\n",
        "avgTempsDF = train.groupby(\"startdate\")['contest-tmp2m-14d__tmp2m'].mean()\n",
        "avgTempsDF = avgTempsDF.to_frame()\n",
        "avgTempsDF['startdate'] = avgTempsDF.index"
      ]
    },
    {
      "cell_type": "code",
      "execution_count": null,
      "metadata": {
        "id": "s1jKO6KwPNyP"
      },
      "outputs": [],
      "source": [
        "#Get the season for each date\n",
        "avgTempsDF.startdate = pd.to_datetime(avgTempsDF.startdate)\n",
        "avgTempsDF['month'] = avgTempsDF.startdate.dt.month\n",
        "MonthToSeason = {\n",
        "    1: 'winter',\n",
        "    2: 'winter',\n",
        "    3: 'spring',\n",
        "    4: 'spring',\n",
        "    5: 'spring',\n",
        "    6: 'summer',\n",
        "    7: 'summer',\n",
        "    8: 'summer',\n",
        "    9: 'autumn',\n",
        "    10: 'autumn',\n",
        "    11: 'autumn',\n",
        "    12: 'winter'\n",
        "}\n",
        "avgTempsDF['season'] = avgTempsDF['month'].apply(lambda x: MonthToSeason[x])"
      ]
    },
    {
      "cell_type": "code",
      "execution_count": null,
      "metadata": {
        "colab": {
          "base_uri": "https://localhost:8080/",
          "height": 477
        },
        "id": "ExAty4KhSbsm",
        "outputId": "8a35db18-b6cc-4dd7-e7cb-98d7525c8d6e"
      },
      "outputs": [
        {
          "data": {
            "image/png": "[encoded data removed]",
            "text/plain": [
              "<Figure size 640x480 with 1 Axes>"
            ]
          },
          "metadata": {},
          "output_type": "display_data"
        },
        {
          "data": {
            "text/plain": [
              "<ggplot: (8756725446241)>"
            ]
          },
          "execution_count": 17,
          "metadata": {},
          "output_type": "execute_result"
        }
      ],
      "source": [
        "#Plot the Temperatures by date separated by season\n",
        "(\n",
        "    ggplot(avgTempsDF, aes(x='startdate', y='contest-tmp2m-14d__tmp2m', color = \"factor(season)\"))\n",
        "    + geom_point(size = 2) # line plot\n",
        "    + theme_minimal()\n",
        "    + labs(x='Date', y='Avg. Temp')\n",
        ")"
      ]
    },
    {
      "cell_type": "markdown",
      "metadata": {
        "id": "pTL5Gp5H-z8W"
      },
      "source": [
        "- Temperature trends seem to be different per season\n",
        "- Not too much variance between years; overall temps do seem to increase, however"
      ]
    },
    {
      "cell_type": "markdown",
      "metadata": {
        "id": "--8loorHFOJf"
      },
      "source": [
        "Do we have the same number of entries for each date and location?"
      ]
    },
    {
      "cell_type": "code",
      "execution_count": null,
      "metadata": {
        "colab": {
          "base_uri": "https://localhost:8080/"
        },
        "id": "JDilCBclFaG8",
        "outputId": "72641dfc-deec-45ea-b980-a2341058b586"
      },
      "outputs": [
        {
          "data": {
            "text/plain": [
              "startdate\n",
              "2014-09-01    9\n",
              "2014-09-02    9\n",
              "2014-09-03    9\n",
              "2014-09-04    9\n",
              "2014-09-05    9\n",
              "             ..\n",
              "2016-08-27    8\n",
              "2016-08-28    8\n",
              "2016-08-29    8\n",
              "2016-08-30    8\n",
              "2016-08-31    8\n",
              "Name: index, Length: 731, dtype: int64"
            ]
          },
          "execution_count": 23,
          "metadata": {},
          "output_type": "execute_result"
        }
      ],
      "source": [
        "#From Kaggle Public Code: https://www.kaggle.com/code/iamleonie/wids-datathon-2023-forecasting-with-lgbm\n",
        "train.groupby('startdate')['index'].count()"
      ]
    },
    {
      "cell_type": "code",
      "execution_count": null,
      "metadata": {
        "colab": {
          "base_uri": "https://localhost:8080/"
        },
        "id": "PRmjrpNOhwwb",
        "outputId": "137cc7f5-28f5-4022-87c4-3a665876b287"
      },
      "outputs": [
        {
          "data": {
            "text/plain": [
              "startdate\n",
              "2022-11-01    86\n",
              "2022-11-02    86\n",
              "2022-11-03    86\n",
              "2022-11-04    86\n",
              "2022-11-05    86\n",
              "              ..\n",
              "2022-12-27    86\n",
              "2022-12-28    86\n",
              "2022-12-29    86\n",
              "2022-12-30    86\n",
              "2022-12-31    85\n",
              "Name: index, Length: 61, dtype: int64"
            ]
          },
          "execution_count": 24,
          "metadata": {},
          "output_type": "execute_result"
        }
      ],
      "source": [
        "test.groupby('startdate')['index'].count()"
      ]
    },
    {
      "cell_type": "markdown",
      "metadata": {
        "id": "zzPQxN0AfuI8"
      },
      "source": [
        "- 514 unique values per date = 514 unique locations have data being recorded in the TRAINING SET\n",
        "- TESTING SET also has 514 unique values; don't necessarily know if they are the same set of 514"
      ]
    },
    {
      "cell_type": "code",
      "execution_count": null,
      "metadata": {
        "colab": {
          "base_uri": "https://localhost:8080/"
        },
        "id": "GiWx3dz5jjKa",
        "outputId": "777dd944-f53f-4982-d390-8a5952542187"
      },
      "outputs": [
        {
          "name": "stdout",
          "output_type": "stream",
          "text": [
            "Total Number of Unique Locations:  86\n"
          ]
        }
      ],
      "source": [
        "#Check if the 514 locations are the same between sets\n",
        "print(\"Total Number of Unique Locations: \", combined['unique_location'].nunique())"
      ]
    },
    {
      "cell_type": "markdown",
      "metadata": {
        "id": "nzdTT5RHjn8R"
      },
      "source": [
        "- There are 61 locations that are not shared by both sets, yet both sets have 514 total unique locations\n",
        "- This means that the training set is forcing us to create a generalizable model: we cannot only train the model on the locations present in the testing set since the training set does not have all of these locations"
      ]
    },
    {
      "cell_type": "code",
      "execution_count": null,
      "metadata": {
        "id": "bl4mwIuXlRu5"
      },
      "outputs": [],
      "source": [
        "#Preserving the original, cleaned train/test dataframes in case we need to backtrack\n",
        "train2 = train\n",
        "test2 = test"
      ]
    },
    {
      "cell_type": "markdown",
      "metadata": {
        "id": "MhPbi4ywDn8R"
      },
      "source": [
        "**Dropping Unused Variables**"
      ]
    },
    {
      "cell_type": "code",
      "execution_count": null,
      "metadata": {
        "id": "Ir6PbVUtDqzm"
      },
      "outputs": [],
      "source": [
        "#Drop [startdate] since all data has been transformed into other variables\n",
        "train2 = train2.drop('startdate', axis=1)\n",
        "test2 = test2.drop('startdate', axis=1)\n",
        "\n",
        "#Drop [season] since we have dummy variables\n",
        "train2 = train2.drop('season', axis=1)\n",
        "test2 = test2.drop('season', axis=1)\n",
        "\n",
        "#Drop [year] since we have dummy variables\n",
        "train2 = train2.drop('year', axis=1)\n",
        "test2 = test2.drop('year', axis=1)\n",
        "\n",
        "#Drop [unique_location] since it gave us massive overfitting issues\n",
        "train2 = train2.drop('unique_location', axis = 1)\n",
        "test2 = test2.drop('unique_location', axis = 1)\n",
        "\n",
        "#Get rid of the predicted variable in testing set\n",
        "test2 = test2.drop('contest-tmp2m-14d__tmp2m', axis=1)"
      ]
    },
    {
      "cell_type": "markdown",
      "metadata": {
        "id": "KVBvtZuZGcL8"
      },
      "source": [
        "Notes on Removing Variables:\n",
        "- Removed [startdate] since it is represented by the [day], [month], and [year] variables\n",
        "- Removed [season] and [year] because we have dummy variables for this information now\n",
        "- [lat] and [lon]: Could be removed since we have now created the [unique_location] variable based on this information. However, [unique_location] will not help us create predictions for the locations that are not in the training set. Therefore, we should keep [lat] and [lon] for their geographic information. This is because locations with similar latitiude and longitude may share similar temperatures, but that direct correlation does not necessarily exist with the [unique_location] labels.\n",
        "- We need to retain [index] in order to create the submission file in the correct format, but we should not include [index] in the model.\n",
        "- [day] could be excluded because December 1 and June 1, for example, would have drastically different temperatures. The target variable is linked to the month far more closely than it is to the day of the month. Using this variable could be very misleading.\n"
      ]
    },
    {
      "cell_type": "code",
      "execution_count": null,
      "metadata": {
        "id": "AtyRvS0JoQWR"
      },
      "outputs": [],
      "source": [
        "#Convert the dummy variables to booleans\n",
        "convert_dict = {'season_spring': bool,\n",
        "                'season_summer': bool,\n",
        "                'season_winter': bool,\n",
        "                'year_2015': bool,\n",
        "                'year_2016': bool,\n",
        "                'year_2022': bool,\n",
        "                }\n",
        " \n",
        "train2 = train2.astype(convert_dict)\n",
        "test2 = test2.astype(convert_dict)"
      ]
    },
    {
      "cell_type": "code",
      "execution_count": null,
      "metadata": {
        "colab": {
          "base_uri": "https://localhost:8080/"
        },
        "id": "Ke6YwhutKJUC",
        "outputId": "aed4cc54-0824-46de-98f4-93c1c2058248"
      },
      "outputs": [
        {
          "name": "stdout",
          "output_type": "stream",
          "text": [
            "Train:  (375734, 253)\n",
            "Test:  (31354, 252)\n"
          ]
        }
      ],
      "source": [
        "#Check how many variables we have after pre-processing\n",
        "print(\"Train: \", train2.shape)\n",
        "print(\"Test: \", test2.shape)"
      ]
    },
    {
      "cell_type": "markdown",
      "metadata": {
        "id": "VAon9W4rjJb6"
      },
      "source": [
        "#Baseline Lasso Regression: Fully Cleaned Dataset"
      ]
    },
    {
      "cell_type": "markdown",
      "metadata": {
        "id": "IvJHbwLqfax2"
      },
      "source": [
        "**Creating a Baseline Lasso Regression Model**\n",
        "- Lasso Regression automatically applies regularization, providing a more generalizable model than Linear Regression."
      ]
    },
    {
      "cell_type": "code",
      "execution_count": null,
      "metadata": {
        "id": "yHNtuiPpIo_y"
      },
      "outputs": [],
      "source": [
        "#get rid of null values\n",
        "train2.dropna(inplace = True)\n",
        "\n",
        "#split up training predictors and target values\n",
        "X_train = train2.loc[:, train2.columns != 'contest-tmp2m-14d__tmp2m']\n",
        "y_train = train2['contest-tmp2m-14d__tmp2m']\n",
        "\n",
        "#testing data rename\n",
        "X_test = test2\n",
        "\n",
        "#exclude object types since regression can't handle them (if any remain)\n",
        "X_train = X_train.select_dtypes(exclude=['object'])\n",
        "X_test = X_test.select_dtypes(exclude=['object'])"
      ]
    },
    {
      "cell_type": "markdown",
      "metadata": {
        "id": "jScPebaSIoUJ"
      },
      "source": [
        "Z-Scoring Numerical Continuous Data"
      ]
    },
    {
      "cell_type": "code",
      "execution_count": null,
      "metadata": {
        "id": "YBZfk6QSi8Yo"
      },
      "outputs": [],
      "source": [
        "#Remove the factors that cannot be Z-scored\n",
        "onlyZvars = X_train.drop(['index',\n",
        "                        'lat',\n",
        "                        'lon',\n",
        "                        'day',\n",
        "                        'month',\n",
        "                        'season_spring',\n",
        "                        'season_summer',\n",
        "                        'season_winter',\n",
        "                        'year_2015',\n",
        "                        'year_2016',\n",
        "                        'year_2022'], \n",
        "                         axis = 1)\n",
        "features = onlyZvars.columns[:]"
      ]
    },
    {
      "cell_type": "code",
      "execution_count": null,
      "metadata": {
        "id": "ubM2XyLlbzRI"
      },
      "outputs": [],
      "source": [
        "z = StandardScaler()\n",
        "#don't train on all: only continuous variables, not categoricals\n",
        "\n",
        "#DON'T FIT ON TEST SET\n",
        "z.fit(X_train[features])\n",
        "X_train[features] = z.transform(X_train[features])\n",
        "\n",
        "X_test[features] = z.transform(X_test[features])"
      ]
    },
    {
      "cell_type": "code",
      "execution_count": null,
      "metadata": {
        "id": "CEqBIF88gDUt"
      },
      "outputs": [],
      "source": [
        "#Save the finalized testing/training sets that have been Z-scored\n",
        "cleaned_X_Train = X_train\n",
        "cleaned_y_Train = y_train\n",
        "cleaned_X_Test = X_test"
      ]
    },
    {
      "cell_type": "code",
      "execution_count": null,
      "metadata": {
        "id": "8z5vS_z7JEhr"
      },
      "outputs": [],
      "source": [
        "#Save the finalized testing/training sets to be downloaded\n",
        "cleaned_X_Train.to_csv('X_train_clean.csv', index = False)\n",
        "cleaned_y_Train.to_csv('y_train_clean.csv', index = False)\n",
        "cleaned_X_Test.to_csv('X_test_clean.csv', index = False)\n",
        "\n",
        "print(\"Your files were successfully saved!\")"
      ]
    },
    {
      "cell_type": "markdown",
      "metadata": {
        "id": "jfwQNii0JmAQ"
      },
      "source": [
        "Lasso Regression"
      ]
    },
    {
      "cell_type": "code",
      "execution_count": null,
      "metadata": {
        "id": "raV2o84vfdig"
      },
      "outputs": [],
      "source": [
        "#model creation and execution\n",
        "lasso = Lasso()\n",
        "\n",
        "lasso.fit(X_train, y_train)\n",
        "\n",
        "print(\"TRAIN RMSE: \", mean_squared_error(y_train, lasso.predict(X_train), squared = False))"
      ]
    },
    {
      "cell_type": "code",
      "execution_count": null,
      "metadata": {
        "id": "kkHUZV1KOrjS"
      },
      "outputs": [],
      "source": [
        "#create testing set predictions\n",
        "testPreds = lasso.predict(X_test)"
      ]
    },
    {
      "cell_type": "markdown",
      "metadata": {
        "id": "rtL2ueZcfdvD"
      },
      "source": [
        "**Saving Predictions in Submission Format**"
      ]
    },
    {
      "cell_type": "code",
      "execution_count": null,
      "metadata": {
        "id": "SQfQKfhmYOFW"
      },
      "outputs": [],
      "source": [
        "submission = pd.read_csv('sample_solution.csv')\n",
        "submission['contest-tmp2m-14d__tmp2m'] = lasso.predict(X_test)\n",
        "\n",
        "submission.to_csv('submission_LassoRegBase.csv', index = False)\n",
        "print(\"Your submission was successfully saved!\")"
      ]
    },
    {
      "cell_type": "markdown",
      "metadata": {
        "id": "xJMtaaJjKvTT"
      },
      "source": [
        "Baseline Lasso Results:\n",
        "- Training RMSE: 2.5129070021087467\n",
        "- Testing RMSE: 12.986"
      ]
    },
    {
      "cell_type": "markdown",
      "metadata": {
        "id": "hkYnunBRjRxl"
      },
      "source": [
        "#Baseline Lasso Regression: No Date-Related Data"
      ]
    },
    {
      "cell_type": "markdown",
      "metadata": {
        "id": "sOXpwMeHNl03"
      },
      "source": [
        "**Testing Baseline Model without Date-Related Data**"
      ]
    },
    {
      "cell_type": "code",
      "execution_count": null,
      "metadata": {
        "id": "5PaNX6bdNpIH"
      },
      "outputs": [],
      "source": [
        "#Drop Date-Related Data from X_train and X_test\n",
        "X_trainWOD = X_train.drop(['day',\n",
        "                        'month',\n",
        "                        'season_spring',\n",
        "                        'season_summer',\n",
        "                        'season_winter',\n",
        "                        'year_2015',\n",
        "                        'year_2016',\n",
        "                        'year_2022'], \n",
        "                         axis = 1)\n",
        "X_testWOD = X_test.drop(['day',\n",
        "                        'month',\n",
        "                        'season_spring',\n",
        "                        'season_summer',\n",
        "                        'season_winter',\n",
        "                        'year_2015',\n",
        "                        'year_2016',\n",
        "                        'year_2022'], \n",
        "                         axis = 1)\n",
        "y_trainWOD = y_train"
      ]
    },
    {
      "cell_type": "code",
      "execution_count": null,
      "metadata": {
        "id": "YawbDMgXZaWc"
      },
      "outputs": [],
      "source": [
        "#Train the model\n",
        "lasso2 = Lasso()\n",
        "lasso2.fit(X_trainWOD, y_trainWOD)\n",
        "print(\"TRAIN RMSE: \", mean_squared_error(y_trainWOD, lasso2.predict(X_trainWOD), squared = False))"
      ]
    },
    {
      "cell_type": "code",
      "execution_count": null,
      "metadata": {
        "id": "8bgVhseeZyBY"
      },
      "outputs": [],
      "source": [
        "#create testing set predictions and output a submission\n",
        "submission = pd.read_csv('sample_solution.csv')\n",
        "display(submission)\n",
        "submission['contest-tmp2m-14d__tmp2m'] = lasso2.predict(X_testWOD)\n",
        "\n",
        "submission.to_csv('submission_LassoNoDate.csv', index = False)\n",
        "print(\"Your submission was successfully saved!\")"
      ]
    },
    {
      "cell_type": "markdown",
      "metadata": {
        "id": "PJGMQgFOK6ZV"
      },
      "source": [
        "Baseline Lasso Without Date-Related Data Results:\n",
        "- Training RMSE: 2.58662675789208\n",
        "- Testing RMSE: 13.502"
      ]
    },
    {
      "cell_type": "markdown",
      "metadata": {
        "id": "MBiX7ONQjYIB"
      },
      "source": [
        "#Baseline Lasso Regression: No Location Data"
      ]
    },
    {
      "cell_type": "markdown",
      "metadata": {
        "id": "1ODmjnkcYvSN"
      },
      "source": [
        "**Testing Baseline Model without Location Data**"
      ]
    },
    {
      "cell_type": "code",
      "execution_count": null,
      "metadata": {
        "id": "WSUbZD09Y1yQ"
      },
      "outputs": [],
      "source": [
        "#Drop Date-Related Data from X_train and X_test\n",
        "X_trainWOL = X_train.drop(['unique_location'], \n",
        "                         axis = 1)\n",
        "X_testWOL = X_test.drop(['unique_location'], \n",
        "                         axis = 1)\n",
        "y_trainWOL = y_train"
      ]
    },
    {
      "cell_type": "code",
      "execution_count": null,
      "metadata": {
        "colab": {
          "base_uri": "https://localhost:8080/"
        },
        "id": "kYP6vTNhGjKL",
        "outputId": "db135b90-2522-4a5e-cbaa-77f1e6620748"
      },
      "outputs": [
        {
          "name": "stdout",
          "output_type": "stream",
          "text": [
            "TRAIN RMSE:  2.563119010488292\n"
          ]
        }
      ],
      "source": [
        "#Train the model\n",
        "lasso3 = Lasso()\n",
        "lasso3.fit(X_trainWOL, y_trainWOL)\n",
        "print(\"TRAIN RMSE: \", mean_squared_error(y_trainWOL, lasso3.predict(X_trainWOL), squared = False))"
      ]
    },
    {
      "cell_type": "code",
      "execution_count": null,
      "metadata": {
        "colab": {
          "base_uri": "https://localhost:8080/",
          "height": 442
        },
        "id": "2nYaer62GqeE",
        "outputId": "cdc87157-6b21-4f3b-fcdb-baa40a6857fb"
      },
      "outputs": [
        {
          "data": {
            "text/html": [
              "\n",
              "  <div id=\"df-f29cfebe-619c-4e86-9996-13ed5c1ebcfb\">\n",
              "    <div class=\"colab-df-container\">\n",
              "      <div>\n",
              "<style scoped>\n",
              "    .dataframe tbody tr th:only-of-type {\n",
              "        vertical-align: middle;\n",
              "    }\n",
              "\n",
              "    .dataframe tbody tr th {\n",
              "        vertical-align: top;\n",
              "    }\n",
              "\n",
              "    .dataframe thead th {\n",
              "        text-align: right;\n",
              "    }\n",
              "</style>\n",
              "<table border=\"1\" class=\"dataframe\">\n",
              "  <thead>\n",
              "    <tr style=\"text-align: right;\">\n",
              "      <th></th>\n",
              "      <th>contest-tmp2m-14d__tmp2m</th>\n",
              "      <th>index</th>\n",
              "    </tr>\n",
              "  </thead>\n",
              "  <tbody>\n",
              "    <tr>\n",
              "      <th>0</th>\n",
              "      <td>27.073876</td>\n",
              "      <td>375734</td>\n",
              "    </tr>\n",
              "    <tr>\n",
              "      <th>1</th>\n",
              "      <td>25.109308</td>\n",
              "      <td>375735</td>\n",
              "    </tr>\n",
              "    <tr>\n",
              "      <th>2</th>\n",
              "      <td>22.557390</td>\n",
              "      <td>375736</td>\n",
              "    </tr>\n",
              "    <tr>\n",
              "      <th>3</th>\n",
              "      <td>25.572875</td>\n",
              "      <td>375737</td>\n",
              "    </tr>\n",
              "    <tr>\n",
              "      <th>4</th>\n",
              "      <td>20.781073</td>\n",
              "      <td>375738</td>\n",
              "    </tr>\n",
              "    <tr>\n",
              "      <th>...</th>\n",
              "      <td>...</td>\n",
              "      <td>...</td>\n",
              "    </tr>\n",
              "    <tr>\n",
              "      <th>31349</th>\n",
              "      <td>28.303967</td>\n",
              "      <td>407083</td>\n",
              "    </tr>\n",
              "    <tr>\n",
              "      <th>31350</th>\n",
              "      <td>26.635933</td>\n",
              "      <td>407084</td>\n",
              "    </tr>\n",
              "    <tr>\n",
              "      <th>31351</th>\n",
              "      <td>27.057762</td>\n",
              "      <td>407085</td>\n",
              "    </tr>\n",
              "    <tr>\n",
              "      <th>31352</th>\n",
              "      <td>26.871066</td>\n",
              "      <td>407086</td>\n",
              "    </tr>\n",
              "    <tr>\n",
              "      <th>31353</th>\n",
              "      <td>21.253714</td>\n",
              "      <td>407087</td>\n",
              "    </tr>\n",
              "  </tbody>\n",
              "</table>\n",
              "<p>31354 rows × 2 columns</p>\n",
              "</div>\n",
              "      <button class=\"colab-df-convert\" onclick=\"convertToInteractive('df-f29cfebe-619c-4e86-9996-13ed5c1ebcfb')\"\n",
              "              title=\"Convert this dataframe to an interactive table.\"\n",
              "              style=\"display:none;\">\n",
              "        \n",
              "  <svg xmlns=\"http://www.w3.org/2000/svg\" height=\"24px\"viewBox=\"0 0 24 24\"\n",
              "       width=\"24px\">\n",
              "    <path d=\"M0 0h24v24H0V0z\" fill=\"none\"/>\n",
              "    <path d=\"M18.56 5.44l.94 2.06.94-2.06 2.06-.94-2.06-.94-.94-2.06-.94 2.06-2.06.94zm-11 1L8.5 8.5l.94-2.06 2.06-.94-2.06-.94L8.5 2.5l-.94 2.06-2.06.94zm10 10l.94 2.06.94-2.06 2.06-.94-2.06-.94-.94-2.06-.94 2.06-2.06.94z\"/><path d=\"M17.41 7.96l-1.37-1.37c-.4-.4-.92-.59-1.43-.59-.52 0-1.04.2-1.43.59L10.3 9.45l-7.72 7.72c-.78.78-.78 2.05 0 2.83L4 21.41c.39.39.9.59 1.41.59.51 0 1.02-.2 1.41-.59l7.78-7.78 2.81-2.81c.8-.78.8-2.07 0-2.86zM5.41 20L4 18.59l7.72-7.72 1.47 1.35L5.41 20z\"/>\n",
              "  </svg>\n",
              "      </button>\n",
              "      \n",
              "  <style>\n",
              "    .colab-df-container {\n",
              "      display:flex;\n",
              "      flex-wrap:wrap;\n",
              "      gap: 12px;\n",
              "    }\n",
              "\n",
              "    .colab-df-convert {\n",
              "      background-color: #E8F0FE;\n",
              "      border: none;\n",
              "      border-radius: 50%;\n",
              "      cursor: pointer;\n",
              "      display: none;\n",
              "      fill: #1967D2;\n",
              "      height: 32px;\n",
              "      padding: 0 0 0 0;\n",
              "      width: 32px;\n",
              "    }\n",
              "\n",
              "    .colab-df-convert:hover {\n",
              "      background-color: #E2EBFA;\n",
              "      box-shadow: 0px 1px 2px rgba(60, 64, 67, 0.3), 0px 1px 3px 1px rgba(60, 64, 67, 0.15);\n",
              "      fill: #174EA6;\n",
              "    }\n",
              "\n",
              "    [theme=dark] .colab-df-convert {\n",
              "      background-color: #3B4455;\n",
              "      fill: #D2E3FC;\n",
              "    }\n",
              "\n",
              "    [theme=dark] .colab-df-convert:hover {\n",
              "      background-color: #434B5C;\n",
              "      box-shadow: 0px 1px 3px 1px rgba(0, 0, 0, 0.15);\n",
              "      filter: drop-shadow(0px 1px 2px rgba(0, 0, 0, 0.3));\n",
              "      fill: #FFFFFF;\n",
              "    }\n",
              "  </style>\n",
              "\n",
              "      <script>\n",
              "        const buttonEl =\n",
              "          document.querySelector('#df-f29cfebe-619c-4e86-9996-13ed5c1ebcfb button.colab-df-convert');\n",
              "        buttonEl.style.display =\n",
              "          google.colab.kernel.accessAllowed ? 'block' : 'none';\n",
              "\n",
              "        async function convertToInteractive(key) {\n",
              "          const element = document.querySelector('#df-f29cfebe-619c-4e86-9996-13ed5c1ebcfb');\n",
              "          const dataTable =\n",
              "            await google.colab.kernel.invokeFunction('convertToInteractive',\n",
              "                                                     [key], {});\n",
              "          if (!dataTable) return;\n",
              "\n",
              "          const docLinkHtml = 'Like what you see? Visit the ' +\n",
              "            '<a target=\"_blank\" href=https://colab.research.google.com/notebooks/data_table.ipynb>data table notebook</a>'\n",
              "            + ' to learn more about interactive tables.';\n",
              "          element.innerHTML = '';\n",
              "          dataTable['output_type'] = 'display_data';\n",
              "          await google.colab.output.renderOutput(dataTable, element);\n",
              "          const docLink = document.createElement('div');\n",
              "          docLink.innerHTML = docLinkHtml;\n",
              "          element.appendChild(docLink);\n",
              "        }\n",
              "      </script>\n",
              "    </div>\n",
              "  </div>\n",
              "  "
            ],
            "text/plain": [
              "       contest-tmp2m-14d__tmp2m   index\n",
              "0                     27.073876  375734\n",
              "1                     25.109308  375735\n",
              "2                     22.557390  375736\n",
              "3                     25.572875  375737\n",
              "4                     20.781073  375738\n",
              "...                         ...     ...\n",
              "31349                 28.303967  407083\n",
              "31350                 26.635933  407084\n",
              "31351                 27.057762  407085\n",
              "31352                 26.871066  407086\n",
              "31353                 21.253714  407087\n",
              "\n",
              "[31354 rows x 2 columns]"
            ]
          },
          "metadata": {},
          "output_type": "display_data"
        },
        {
          "name": "stdout",
          "output_type": "stream",
          "text": [
            "Your submission was successfully saved!\n"
          ]
        }
      ],
      "source": [
        "#create testing set predictions and output a submission\n",
        "submission = pd.read_csv('sample_solution.csv')\n",
        "submission['contest-tmp2m-14d__tmp2m'] = lasso3.predict(X_testWOL)\n",
        "\n",
        "submission.to_csv('submission_LassoNoLoc.csv', index = False)\n",
        "print(\"Your submission was successfully saved!\")"
      ]
    },
    {
      "cell_type": "markdown",
      "metadata": {
        "id": "kHCa4ejrLFno"
      },
      "source": [
        "Baseline Lasso Without Location Data Results:\n",
        "- Training RMSE: 2.563119010488292\n",
        "- Testing RMSE: 3.107\n",
        "- We discovered the source of our overfitting issue! The location-related information is causing our data to become incredibly overfit to the training set.\n",
        "- We tested dropping [lat], [lon], and [unique_location] together as well as only dropping [unique_location], which gave us the exact same set of predictions. Therefore, it would appear that our model is not using [lat] and [lon]  to determine its predictions (the Lasso model is likely eliminating these two variables)."
      ]
    },
    {
      "cell_type": "markdown",
      "metadata": {
        "id": "lqIrOVYUjcwy"
      },
      "source": [
        "#Baseline Lasso Regression: Only Autumn + Winter Data"
      ]
    },
    {
      "cell_type": "markdown",
      "metadata": {
        "id": "IAGp6QB0LAeU"
      },
      "source": [
        "**Testing Baseline Model with Only Autumn/Winter Data**"
      ]
    },
    {
      "cell_type": "code",
      "execution_count": null,
      "metadata": {
        "id": "60gca7RLNpjq"
      },
      "outputs": [],
      "source": [
        "#Grab only Autumn and Winter Data\n",
        "#y_train = y_train.to_frame()\n",
        "trainFull = X_train\n",
        "trainFull['contest-tmp2m-14d__tmp2m'] = y_train['contest-tmp2m-14d__tmp2m']\n",
        "trainFull = trainFull.loc[trainFull['season_summer'] != 1]\n",
        "trainFullAW = trainFull.loc[trainFull['season_spring'] != 1]\n",
        "\n",
        "y_trainAW = trainFullAW['contest-tmp2m-14d__tmp2m']\n",
        "X_trainAW = trainFullAW.drop(['contest-tmp2m-14d__tmp2m'], \n",
        "                         axis = 1)\n",
        "\n",
        "testSum = X_test.loc[X_test['season_summer'] != 1]\n",
        "X_testAW = testSum.loc[testSum['season_spring'] != 1]"
      ]
    },
    {
      "cell_type": "code",
      "execution_count": null,
      "metadata": {
        "colab": {
          "base_uri": "https://localhost:8080/"
        },
        "id": "fvb7H8JnJb5v",
        "outputId": "bd317bcb-e43f-432a-dfa7-d9a299f839b3"
      },
      "outputs": [
        {
          "name": "stdout",
          "output_type": "stream",
          "text": [
            "TRAIN RMSE:  2.7691265590715948\n"
          ]
        }
      ],
      "source": [
        "#Train the model\n",
        "lasso4 = Lasso()\n",
        "lasso4.fit(X_trainAW, y_trainAW)\n",
        "print(\"TRAIN RMSE: \", mean_squared_error(y_trainAW, lasso4.predict(X_trainAW), squared = False))"
      ]
    },
    {
      "cell_type": "code",
      "execution_count": null,
      "metadata": {
        "colab": {
          "base_uri": "https://localhost:8080/",
          "height": 442
        },
        "id": "SwecH9C8Jk7N",
        "outputId": "c9a54f5b-aad7-4d04-9848-1a0b7954a940"
      },
      "outputs": [
        {
          "data": {
            "text/html": [
              "\n",
              "  <div id=\"df-3a075bbb-7aa9-4428-aa64-4f156ee112f5\">\n",
              "    <div class=\"colab-df-container\">\n",
              "      <div>\n",
              "<style scoped>\n",
              "    .dataframe tbody tr th:only-of-type {\n",
              "        vertical-align: middle;\n",
              "    }\n",
              "\n",
              "    .dataframe tbody tr th {\n",
              "        vertical-align: top;\n",
              "    }\n",
              "\n",
              "    .dataframe thead th {\n",
              "        text-align: right;\n",
              "    }\n",
              "</style>\n",
              "<table border=\"1\" class=\"dataframe\">\n",
              "  <thead>\n",
              "    <tr style=\"text-align: right;\">\n",
              "      <th></th>\n",
              "      <th>contest-tmp2m-14d__tmp2m</th>\n",
              "      <th>index</th>\n",
              "    </tr>\n",
              "  </thead>\n",
              "  <tbody>\n",
              "    <tr>\n",
              "      <th>0</th>\n",
              "      <td>27.073876</td>\n",
              "      <td>375734</td>\n",
              "    </tr>\n",
              "    <tr>\n",
              "      <th>1</th>\n",
              "      <td>25.109308</td>\n",
              "      <td>375735</td>\n",
              "    </tr>\n",
              "    <tr>\n",
              "      <th>2</th>\n",
              "      <td>22.557390</td>\n",
              "      <td>375736</td>\n",
              "    </tr>\n",
              "    <tr>\n",
              "      <th>3</th>\n",
              "      <td>25.572875</td>\n",
              "      <td>375737</td>\n",
              "    </tr>\n",
              "    <tr>\n",
              "      <th>4</th>\n",
              "      <td>20.781073</td>\n",
              "      <td>375738</td>\n",
              "    </tr>\n",
              "    <tr>\n",
              "      <th>...</th>\n",
              "      <td>...</td>\n",
              "      <td>...</td>\n",
              "    </tr>\n",
              "    <tr>\n",
              "      <th>31349</th>\n",
              "      <td>28.303967</td>\n",
              "      <td>407083</td>\n",
              "    </tr>\n",
              "    <tr>\n",
              "      <th>31350</th>\n",
              "      <td>26.635933</td>\n",
              "      <td>407084</td>\n",
              "    </tr>\n",
              "    <tr>\n",
              "      <th>31351</th>\n",
              "      <td>27.057762</td>\n",
              "      <td>407085</td>\n",
              "    </tr>\n",
              "    <tr>\n",
              "      <th>31352</th>\n",
              "      <td>26.871066</td>\n",
              "      <td>407086</td>\n",
              "    </tr>\n",
              "    <tr>\n",
              "      <th>31353</th>\n",
              "      <td>21.253714</td>\n",
              "      <td>407087</td>\n",
              "    </tr>\n",
              "  </tbody>\n",
              "</table>\n",
              "<p>31354 rows × 2 columns</p>\n",
              "</div>\n",
              "      <button class=\"colab-df-convert\" onclick=\"convertToInteractive('df-3a075bbb-7aa9-4428-aa64-4f156ee112f5')\"\n",
              "              title=\"Convert this dataframe to an interactive table.\"\n",
              "              style=\"display:none;\">\n",
              "        \n",
              "  <svg xmlns=\"http://www.w3.org/2000/svg\" height=\"24px\"viewBox=\"0 0 24 24\"\n",
              "       width=\"24px\">\n",
              "    <path d=\"M0 0h24v24H0V0z\" fill=\"none\"/>\n",
              "    <path d=\"M18.56 5.44l.94 2.06.94-2.06 2.06-.94-2.06-.94-.94-2.06-.94 2.06-2.06.94zm-11 1L8.5 8.5l.94-2.06 2.06-.94-2.06-.94L8.5 2.5l-.94 2.06-2.06.94zm10 10l.94 2.06.94-2.06 2.06-.94-2.06-.94-.94-2.06-.94 2.06-2.06.94z\"/><path d=\"M17.41 7.96l-1.37-1.37c-.4-.4-.92-.59-1.43-.59-.52 0-1.04.2-1.43.59L10.3 9.45l-7.72 7.72c-.78.78-.78 2.05 0 2.83L4 21.41c.39.39.9.59 1.41.59.51 0 1.02-.2 1.41-.59l7.78-7.78 2.81-2.81c.8-.78.8-2.07 0-2.86zM5.41 20L4 18.59l7.72-7.72 1.47 1.35L5.41 20z\"/>\n",
              "  </svg>\n",
              "      </button>\n",
              "      \n",
              "  <style>\n",
              "    .colab-df-container {\n",
              "      display:flex;\n",
              "      flex-wrap:wrap;\n",
              "      gap: 12px;\n",
              "    }\n",
              "\n",
              "    .colab-df-convert {\n",
              "      background-color: #E8F0FE;\n",
              "      border: none;\n",
              "      border-radius: 50%;\n",
              "      cursor: pointer;\n",
              "      display: none;\n",
              "      fill: #1967D2;\n",
              "      height: 32px;\n",
              "      padding: 0 0 0 0;\n",
              "      width: 32px;\n",
              "    }\n",
              "\n",
              "    .colab-df-convert:hover {\n",
              "      background-color: #E2EBFA;\n",
              "      box-shadow: 0px 1px 2px rgba(60, 64, 67, 0.3), 0px 1px 3px 1px rgba(60, 64, 67, 0.15);\n",
              "      fill: #174EA6;\n",
              "    }\n",
              "\n",
              "    [theme=dark] .colab-df-convert {\n",
              "      background-color: #3B4455;\n",
              "      fill: #D2E3FC;\n",
              "    }\n",
              "\n",
              "    [theme=dark] .colab-df-convert:hover {\n",
              "      background-color: #434B5C;\n",
              "      box-shadow: 0px 1px 3px 1px rgba(0, 0, 0, 0.15);\n",
              "      filter: drop-shadow(0px 1px 2px rgba(0, 0, 0, 0.3));\n",
              "      fill: #FFFFFF;\n",
              "    }\n",
              "  </style>\n",
              "\n",
              "      <script>\n",
              "        const buttonEl =\n",
              "          document.querySelector('#df-3a075bbb-7aa9-4428-aa64-4f156ee112f5 button.colab-df-convert');\n",
              "        buttonEl.style.display =\n",
              "          google.colab.kernel.accessAllowed ? 'block' : 'none';\n",
              "\n",
              "        async function convertToInteractive(key) {\n",
              "          const element = document.querySelector('#df-3a075bbb-7aa9-4428-aa64-4f156ee112f5');\n",
              "          const dataTable =\n",
              "            await google.colab.kernel.invokeFunction('convertToInteractive',\n",
              "                                                     [key], {});\n",
              "          if (!dataTable) return;\n",
              "\n",
              "          const docLinkHtml = 'Like what you see? Visit the ' +\n",
              "            '<a target=\"_blank\" href=https://colab.research.google.com/notebooks/data_table.ipynb>data table notebook</a>'\n",
              "            + ' to learn more about interactive tables.';\n",
              "          element.innerHTML = '';\n",
              "          dataTable['output_type'] = 'display_data';\n",
              "          await google.colab.output.renderOutput(dataTable, element);\n",
              "          const docLink = document.createElement('div');\n",
              "          docLink.innerHTML = docLinkHtml;\n",
              "          element.appendChild(docLink);\n",
              "        }\n",
              "      </script>\n",
              "    </div>\n",
              "  </div>\n",
              "  "
            ],
            "text/plain": [
              "       contest-tmp2m-14d__tmp2m   index\n",
              "0                     27.073876  375734\n",
              "1                     25.109308  375735\n",
              "2                     22.557390  375736\n",
              "3                     25.572875  375737\n",
              "4                     20.781073  375738\n",
              "...                         ...     ...\n",
              "31349                 28.303967  407083\n",
              "31350                 26.635933  407084\n",
              "31351                 27.057762  407085\n",
              "31352                 26.871066  407086\n",
              "31353                 21.253714  407087\n",
              "\n",
              "[31354 rows x 2 columns]"
            ]
          },
          "metadata": {},
          "output_type": "display_data"
        },
        {
          "name": "stdout",
          "output_type": "stream",
          "text": [
            "Your submission was successfully saved!\n"
          ]
        }
      ],
      "source": [
        "#create testing set predictions and output a submission\n",
        "submission = pd.read_csv('sample_solution.csv')\n",
        "submission['contest-tmp2m-14d__tmp2m'] = lasso4.predict(X_testAW)\n",
        "\n",
        "submission.to_csv('submission_LassoAutWin.csv', index = False)\n",
        "print(\"Your submission was successfully saved!\")"
      ]
    },
    {
      "cell_type": "markdown",
      "metadata": {
        "id": "I0Uax9pWLKCz"
      },
      "source": [
        "Baseline Lasso Without Only Winter/Autumn Data Results:\n",
        "- Training RMSE: 2.7691265590715948\n",
        "- Testing RMSE: 11.702\n",
        "- Removing Spring/Summer data from the training set does not seem to improve accuracy, and it reintroduces a serious overfitting problem."
      ]
    },
    {
      "cell_type": "markdown",
      "metadata": {
        "id": "-eFc7P4Njg88"
      },
      "source": [
        "#Baseline Lasso Regression: Only November/December Data"
      ]
    },
    {
      "cell_type": "markdown",
      "metadata": {
        "id": "YSIRBTHtXzPC"
      },
      "source": [
        "**Testing Baseline Model with Only November/December Data**"
      ]
    },
    {
      "cell_type": "code",
      "execution_count": null,
      "metadata": {
        "id": "35zp1UXMX2O5"
      },
      "outputs": [],
      "source": [
        "#Grab data from November and December Only\n",
        "#y_train = y_train.to_frame()\n",
        "trainFull = X_train\n",
        "trainFull['contest-tmp2m-14d__tmp2m'] = y_train['contest-tmp2m-14d__tmp2m']\n",
        "trainFullND = trainFull.loc[trainFull['month'] >= 11]\n",
        "\n",
        "y_trainND = trainFullND['contest-tmp2m-14d__tmp2m']\n",
        "X_trainND = trainFullND.drop(['contest-tmp2m-14d__tmp2m'], \n",
        "                         axis = 1)\n",
        "\n",
        "X_testND = X_test.loc[X_test['month'] >= 11]"
      ]
    },
    {
      "cell_type": "code",
      "execution_count": null,
      "metadata": {
        "colab": {
          "base_uri": "https://localhost:8080/"
        },
        "id": "3UbXCdj0KhaL",
        "outputId": "ae01d57c-a35b-4f93-d271-e1e7088f4961"
      },
      "outputs": [
        {
          "name": "stdout",
          "output_type": "stream",
          "text": [
            "TRAIN RMSE:  3.148716778693042\n"
          ]
        }
      ],
      "source": [
        "#Train the model\n",
        "lasso5 = Lasso()\n",
        "lasso5.fit(X_trainND, y_trainND)\n",
        "print(\"TRAIN RMSE: \", mean_squared_error(y_trainND, lasso5.predict(X_trainND), squared = False))"
      ]
    },
    {
      "cell_type": "code",
      "execution_count": null,
      "metadata": {
        "colab": {
          "base_uri": "https://localhost:8080/"
        },
        "id": "5wBbAQIOKqLt",
        "outputId": "4987aa2e-4904-4607-9a0c-7e01d07dbbac"
      },
      "outputs": [
        {
          "name": "stdout",
          "output_type": "stream",
          "text": [
            "Your submission was successfully saved!\n"
          ]
        }
      ],
      "source": [
        "#create testing set predictions and output a submission\n",
        "submission = pd.read_csv('sample_solution.csv')\n",
        "submission['contest-tmp2m-14d__tmp2m'] = lasso5.predict(X_testND)\n",
        "\n",
        "submission.to_csv('submission_LassoNovDec.csv', index = False)\n",
        "print(\"Your submission was successfully saved!\")"
      ]
    },
    {
      "cell_type": "markdown",
      "metadata": {
        "id": "5UfcKNpILM0b"
      },
      "source": [
        "Baseline Lasso Without Only November/December Data Results:\n",
        "- Training RMSE: 3.148716778693042\n",
        "- Testing RMSE: 7.008\n",
        "- It would appear that our idea of only training the model on the 2 months (or 2 seasons) present in the testing set did not help the model. Rather, by eliminating a significant portion of the training set, the model's accuracy lowered, and the model became increasingly overfit."
      ]
    },
    {
      "cell_type": "markdown",
      "metadata": {
        "id": "QzaRiV93jkTT"
      },
      "source": [
        "#Baseline Lasso Regression: Uncleaned Data"
      ]
    },
    {
      "cell_type": "markdown",
      "metadata": {
        "id": "BUHmOFgGVExV"
      },
      "source": [
        "**Uncleaned Data with Baseline Lasso Regression**\n",
        "- NOTE: some data types are being changed such that the regression model does not have to exclude those variables"
      ]
    },
    {
      "cell_type": "code",
      "execution_count": null,
      "metadata": {
        "id": "upzm8lbrVEOh"
      },
      "outputs": [],
      "source": [
        "#Load the train and test sets\n",
        "train = pd.read_csv('train_data.csv')\n",
        "test = pd.read_csv('test_data.csv')"
      ]
    },
    {
      "cell_type": "code",
      "execution_count": null,
      "metadata": {
        "id": "lPJ-6aute5wf"
      },
      "outputs": [],
      "source": [
        "train = pd.get_dummies(train, columns = ['climateregions__climateregion'], drop_first = True)\n",
        "test = pd.get_dummies(test, columns = ['climateregions__climateregion'], drop_first = True)"
      ]
    },
    {
      "cell_type": "code",
      "execution_count": null,
      "metadata": {
        "id": "S6iCjHSVZuyk"
      },
      "outputs": [],
      "source": [
        "#Convert startdate variable to a useable type: new columns for day, month, year\n",
        "train.startdate = pd.to_datetime(train.startdate)\n",
        "train['day'] = train.startdate.dt.day\n",
        "train['month'] = train.startdate.dt.month\n",
        "train['year'] = train.startdate.dt.year\n",
        "train = train.drop(['startdate'], axis = 1)\n",
        "\n",
        "test.startdate = pd.to_datetime(test.startdate)\n",
        "test['day'] = test.startdate.dt.day\n",
        "test['month'] = test.startdate.dt.month\n",
        "test['year'] = test.startdate.dt.year\n",
        "test = test.drop(['startdate'], axis = 1)"
      ]
    },
    {
      "cell_type": "code",
      "execution_count": null,
      "metadata": {
        "id": "wU388ZRhVnTQ"
      },
      "outputs": [],
      "source": [
        "#get rid of null values\n",
        "train.dropna(inplace = True)\n",
        "\n",
        "#split up training predictors and target values\n",
        "X_train = train.loc[:, train.columns != 'contest-tmp2m-14d__tmp2m']\n",
        "y_train = train['contest-tmp2m-14d__tmp2m']\n",
        "\n",
        "#testing data rename\n",
        "X_test = test\n",
        "\n",
        "#exclude object types since regression can't handle them (if any remain)\n",
        "X_train = X_train.select_dtypes(exclude=['object'])\n",
        "X_test = X_test.select_dtypes(exclude=['object'])"
      ]
    },
    {
      "cell_type": "code",
      "execution_count": null,
      "metadata": {
        "id": "lnw7QJptVPaE"
      },
      "outputs": [],
      "source": [
        "lasso6 = Lasso()\n",
        "lasso6.fit(X_train, y_train)\n",
        "\n",
        "print(\"TRAIN RMSE: \", mean_squared_error(y_train, lasso6.predict(X_train), squared = False))"
      ]
    },
    {
      "cell_type": "code",
      "execution_count": null,
      "metadata": {
        "colab": {
          "base_uri": "https://localhost:8080/"
        },
        "id": "9p94E9AoVgQv",
        "outputId": "893209b8-c996-4f4f-f491-97629490ae07"
      },
      "outputs": [
        {
          "name": "stdout",
          "output_type": "stream",
          "text": [
            "Your submission was successfully saved!\n"
          ]
        }
      ],
      "source": [
        "#Creating the submission\n",
        "submission = pd.read_csv('sample_solution.csv')\n",
        "submission['contest-tmp2m-14d__tmp2m'] = lasso6.predict(X_test)\n",
        "\n",
        "submission.to_csv('submission_LassoRegNoCleaning.csv', index = False)\n",
        "print(\"Your submission was successfully saved!\")"
      ]
    },
    {
      "cell_type": "markdown",
      "metadata": {
        "id": "gfPMvMt7XXz8"
      },
      "source": [
        "Baseline Lasso with Dropping Nulls and Objects Results:\n",
        "- Training RMSE: 1.6104603625259848\n",
        "- Testing RMSE: 1.611\n",
        "- We have achieved our lowest RMSE score with the baseline model by not cleaning the data.\n",
        "- The model is also no longer significantly overfit to the training set."
      ]
    },
    {
      "cell_type": "markdown",
      "metadata": {
        "id": "APxEtzYmTAer"
      },
      "source": [
        "As a result of our baseline model testing, it would appear that **our data-cleaning efforts ultimately lowered the efficacy of our model.** Therefore, we will use the dataset in its original form for the training of our final XGBoost model."
      ]
    },
    {
      "cell_type": "code",
      "execution_count": null,
      "metadata": {
        "colab": {
          "base_uri": "https://localhost:8080/"
        },
        "id": "mFNqfmCJgsQV",
        "outputId": "167937d7-79c7-43ae-eaae-5499587d0f61"
      },
      "outputs": [
        {
          "name": "stdout",
          "output_type": "stream",
          "text": [
            "Your files were successfully saved!\n"
          ]
        }
      ],
      "source": [
        "#Output the final version of the training and testing sets:\n",
        "X_train.to_csv('X_train_clean.csv', index = False)\n",
        "y_train.to_csv('y_train_clean.csv', index = False)\n",
        "X_test.to_csv('X_test_clean.csv', index = False)\n",
        "\n",
        "print(\"Your files were successfully saved!\")"
      ]
    },
    {
      "cell_type": "markdown",
      "metadata": {
        "id": "8fv2l4zoKmv4"
      },
      "source": [
        "# Random Forest Model"
      ]
    },
    {
      "cell_type": "markdown",
      "metadata": {
        "id": "txWSRAMJKrLy"
      },
      "source": [
        "- A Random Forest model to compare against our Lasso Regression\n",
        "- Provides additional baseline information before more complex machine learning techniques are used"
      ]
    },
    {
      "cell_type": "code",
      "execution_count": null,
      "metadata": {
        "id": "qXjV5vULLQOV"
      },
      "outputs": [],
      "source": [
        "#Load the finalized train and test sets\n",
        "X_train = pd.read_csv('X_train_clean.csv')\n",
        "y_train = pd.read_csv('y_train_clean.csv')\n",
        "X_test = pd.read_csv('X_test_clean.csv')"
      ]
    },
    {
      "cell_type": "code",
      "execution_count": null,
      "metadata": {
        "id": "PU_OLuDeKqLh"
      },
      "outputs": [],
      "source": [
        "#Fit the model\n",
        "#n_estimators = 100 default\n",
        "\n",
        "randForest = RandomForestRegressor(max_depth = 5, random_state = 0)\n",
        "randForest.fit(X_train, y_train)"
      ]
    },
    {
      "cell_type": "code",
      "execution_count": null,
      "metadata": {
        "colab": {
          "base_uri": "https://localhost:8080/"
        },
        "id": "di2YWf6hMEji",
        "outputId": "83d3fd4d-99ee-4054-c807-2c63178e0169"
      },
      "outputs": [
        {
          "name": "stdout",
          "output_type": "stream",
          "text": [
            "TRAIN RMSE:  2.4108631622777126\n"
          ]
        }
      ],
      "source": [
        "#Create training set predictions\n",
        "print(\"TRAIN RMSE: \", mean_squared_error(y_train, randForest.predict(X_train), squared = False))"
      ]
    },
    {
      "cell_type": "code",
      "execution_count": null,
      "metadata": {
        "colab": {
          "base_uri": "https://localhost:8080/"
        },
        "id": "g8WdSfrmMU-5",
        "outputId": "91d0df4a-3614-4405-fc51-22cd69effaf7"
      },
      "outputs": [
        {
          "name": "stdout",
          "output_type": "stream",
          "text": [
            "Your submission was successfully saved!\n"
          ]
        }
      ],
      "source": [
        "#Creating the submission\n",
        "submission = pd.read_csv('sample_solution.csv')\n",
        "submission['contest-tmp2m-14d__tmp2m'] = randForest.predict(X_test)\n",
        "\n",
        "submission.to_csv('submission_RandForest.csv', index = False)\n",
        "print(\"Your submission was successfully saved!\")"
      ]
    },
    {
      "cell_type": "markdown",
      "metadata": {
        "id": "IU8itD9DTuyp"
      },
      "source": [
        "Baseline Random Forest Regression:\n",
        "- Training RMSE: 2.4108631622777126\n",
        "- Testing RMSE: 2.459\n",
        "- Overall worse than the Lasso model\n",
        "- Does not appear to be overfitting at all to the training set"
      ]
    },
    {
      "cell_type": "markdown",
      "metadata": {
        "id": "yJqmn2klj0El"
      },
      "source": [
        "# Principal Component Analysis"
      ]
    },
    {
      "cell_type": "markdown",
      "metadata": {
        "id": "ISXdYNkAeNXG"
      },
      "source": [
        "**Principal Component Analysis**\n",
        "- A regularization technique: combines factors with overlapping information \n",
        "- EX: [month] and [season] likely contain similar information for the model, so these factors may be united to form one variable by the PCA."
      ]
    },
    {
      "cell_type": "code",
      "execution_count": null,
      "metadata": {
        "id": "hjWfwVslKNAw"
      },
      "outputs": [],
      "source": [
        "#Load the finalized train and test sets\n",
        "X_train = pd.read_csv('X_train_clean.csv')\n",
        "y_train = pd.read_csv('y_train_clean.csv')\n",
        "X_test = pd.read_csv('X_test_clean.csv')"
      ]
    },
    {
      "cell_type": "code",
      "execution_count": null,
      "metadata": {
        "id": "-3HfLXaT_bf-"
      },
      "outputs": [],
      "source": [
        "#Convert the dummy variables to booleans\n",
        "convert_dict = {'climateregions__climateregion_BSk': bool,\n",
        "                'climateregions__climateregion_BWh': bool,\n",
        "                'climateregions__climateregion_BWk': bool,\n",
        "                'climateregions__climateregion_Cfa': bool,\n",
        "                'climateregions__climateregion_Cfb': bool,\n",
        "                'climateregions__climateregion_Csa': bool,\n",
        "                'climateregions__climateregion_Csb': bool,\n",
        "                'climateregions__climateregion_Dfa': bool,\n",
        "                'climateregions__climateregion_Dfb': bool,\n",
        "                'climateregions__climateregion_Dfc': bool,\n",
        "                'climateregions__climateregion_Dsb': bool,\n",
        "                'climateregions__climateregion_Dsc': bool,\n",
        "                'climateregions__climateregion_Dwa': bool,\n",
        "                'climateregions__climateregion_Dwb': bool\n",
        "                }\n",
        " \n",
        "X_train = X_train.astype(convert_dict)\n",
        "X_test = X_test.astype(convert_dict)"
      ]
    },
    {
      "cell_type": "markdown",
      "metadata": {
        "id": "oG72Zh5hC-sP"
      },
      "source": [
        "Z-Score Continuous, Numerical Data before PCA"
      ]
    },
    {
      "cell_type": "code",
      "execution_count": null,
      "metadata": {
        "id": "cpNMLBDR_LJ4"
      },
      "outputs": [],
      "source": [
        "#Remove the factors that cannot be Z-scored\n",
        "onlyZvars = X_train.drop(['index',\n",
        "                'lat',\n",
        "                'lon',\n",
        "                'day',\n",
        "                'month',\n",
        "                'year',\n",
        "                'climateregions__climateregion_BSk',\n",
        "                'climateregions__climateregion_BWh',\n",
        "                'climateregions__climateregion_BWk',\n",
        "                'climateregions__climateregion_Cfa',\n",
        "                'climateregions__climateregion_Cfb',\n",
        "                'climateregions__climateregion_Csa',\n",
        "                'climateregions__climateregion_Csb',\n",
        "                'climateregions__climateregion_Dfa',\n",
        "                'climateregions__climateregion_Dfb',\n",
        "                'climateregions__climateregion_Dfc',\n",
        "                'climateregions__climateregion_Dsb',\n",
        "                'climateregions__climateregion_Dsc',\n",
        "                'climateregions__climateregion_Dwa',\n",
        "                'climateregions__climateregion_Dwb'], \n",
        "                         axis = 1)\n",
        "features = onlyZvars.columns[:]\n",
        "z = StandardScaler()\n",
        "#don't train on all: only continuous variables, not categoricals\n",
        "\n",
        "z.fit(X_train[features])\n",
        "X_train[features] = z.transform(X_train[features])\n",
        "\n",
        "X_test[features] = z.transform(X_test[features])"
      ]
    },
    {
      "cell_type": "code",
      "execution_count": null,
      "metadata": {
        "id": "-kQzKaHvHlfO"
      },
      "outputs": [],
      "source": [
        "#Trying with all variables Z-scored and no dummies\n",
        "\n",
        "#Remove the factors that cannot be Z-scored\n",
        "onlyZvars = X_train.drop(['index'], \n",
        "                         axis = 1)\n",
        "features = onlyZvars.columns[:]\n",
        "z = StandardScaler()\n",
        "#don't train on all: only continuous variables, not categoricals\n",
        "\n",
        "z.fit(X_train[features])\n",
        "X_train[features] = z.transform(X_train[features])\n",
        "\n",
        "X_test[features] = z.transform(X_test[features])"
      ]
    },
    {
      "cell_type": "markdown",
      "metadata": {
        "id": "5JqIQESLDDKx"
      },
      "source": [
        "Determine the Optimal Number of Principal Components"
      ]
    },
    {
      "cell_type": "code",
      "execution_count": null,
      "metadata": {
        "colab": {
          "base_uri": "https://localhost:8080/"
        },
        "id": "xHjxot6EdLix",
        "outputId": "7c7d636a-3ffa-44f8-b753-8361ab28f079"
      },
      "outputs": [
        {
          "data": {
            "text/plain": [
              "PCA()"
            ]
          },
          "execution_count": 33,
          "metadata": {},
          "output_type": "execute_result"
        }
      ],
      "source": [
        "#define and fit the model\n",
        "pca = PCA()\n",
        "pca.fit(X_train[features])"
      ]
    },
    {
      "cell_type": "code",
      "execution_count": null,
      "metadata": {
        "colab": {
          "base_uri": "https://localhost:8080/"
        },
        "id": "JLbbPIWSFYd3",
        "outputId": "6f292ad3-593c-4369-f34b-f4840954b380"
      },
      "outputs": [
        {
          "data": {
            "text/plain": [
              "(352604, 259)"
            ]
          },
          "execution_count": 34,
          "metadata": {},
          "output_type": "execute_result"
        }
      ],
      "source": [
        "X_train[features].shape"
      ]
    },
    {
      "cell_type": "code",
      "execution_count": null,
      "metadata": {
        "id": "-OvMrBlceMoH"
      },
      "outputs": [],
      "source": [
        "#exp1_var: for each component, how much variance does it account for\n",
        "#changes depending on how many components you have\n",
        "#cumulative variance: how much variance does first x components account for total\n",
        "pcaDF = pd.DataFrame({\"expl_var\" :\n",
        "                      pca.explained_variance_ratio_,\n",
        "                      \"pc\": range(1,260),\n",
        "                      \"cum_var\":\n",
        "                      pca.explained_variance_ratio_.cumsum()})\n",
        "#Note: range is 1 to (N+1) where N is the number of columns in the dataset when the PCA model is trained"
      ]
    },
    {
      "cell_type": "code",
      "execution_count": null,
      "metadata": {
        "colab": {
          "base_uri": "https://localhost:8080/"
        },
        "id": "jXr2QUeOG87w",
        "outputId": "c6373e29-e546-46d0-f81d-08577bdd8774"
      },
      "outputs": [
        {
          "name": "stdout",
          "output_type": "stream",
          "text": [
            "    expl_var  pc   cum_var\n",
            "40  0.004006  41  0.897787\n",
            "41  0.003991  42  0.901778\n",
            "42  0.003944  43  0.905722\n",
            "43  0.003893  44  0.909615\n",
            "44  0.003876  45  0.913491\n"
          ]
        }
      ],
      "source": [
        "print(pcaDF.iloc[40:45])"
      ]
    },
    {
      "cell_type": "markdown",
      "metadata": {
        "id": "AZe0a8LqHPOG"
      },
      "source": [
        "- 41 PCs give us an explanation of 90% of the variance in the dataset\n",
        "- Far fewer predictors to use than the original 260 columns"
      ]
    },
    {
      "cell_type": "code",
      "execution_count": null,
      "metadata": {
        "colab": {
          "base_uri": "https://localhost:8080/",
          "height": 478
        },
        "id": "fzwIAtHjekVK",
        "outputId": "e247f1c9-17a5-4fc0-c08d-3985c6c422c8"
      },
      "outputs": [
        {
          "data": {
            "image/png": "[encoded data removed]",
            "text/plain": [
              "<Figure size 640x480 with 1 Axes>"
            ]
          },
          "metadata": {},
          "output_type": "display_data"
        },
        {
          "data": {
            "text/plain": [
              "<ggplot: (8760507981331)>"
            ]
          },
          "execution_count": 40,
          "metadata": {},
          "output_type": "execute_result"
        }
      ],
      "source": [
        "#elbow method: look at point of inflection of graph: keep up to that\n",
        "#number component\n",
        "(ggplot(pcaDF, aes(x = \"pc\", y = \"expl_var\")) \n",
        "  + geom_line() \n",
        "  + geom_point()\n",
        "  + theme_minimal()\n",
        "  + xlim(0,75))"
      ]
    },
    {
      "cell_type": "markdown",
      "source": [
        "- indicates that we should use around 13~ PCs as opposed to the 41 PCs recommended by the other method\n",
        "- We will use 41 PCs since they provide us with more data than only 13 (later testing reveals that using 41 PCs did not overfit the model)"
      ],
      "metadata": {
        "id": "FZMrApKxDYai"
      }
    },
    {
      "cell_type": "code",
      "execution_count": null,
      "metadata": {
        "id": "9y-KqQpze9Qh"
      },
      "outputs": [],
      "source": [
        "#grab first 41 because they explain 90% of the variance\n",
        "pcomps41 = pca.transform(X_train[features])\n",
        "pcomps41 = pd.DataFrame(pcomps41[:, 0:40])"
      ]
    },
    {
      "cell_type": "code",
      "execution_count": null,
      "metadata": {
        "colab": {
          "base_uri": "https://localhost:8080/"
        },
        "id": "fjVkupPbIuK8",
        "outputId": "b71238af-bd1d-49f2-f9d0-1827acd17e74"
      },
      "outputs": [
        {
          "name": "stdout",
          "output_type": "stream",
          "text": [
            "TRAIN RMSE:  2.5983658955952813\n"
          ]
        }
      ],
      "source": [
        "#Baseline Lasso Model:\n",
        "lasso7 = Lasso()\n",
        "lasso7.fit(X_train[features], y_train)\n",
        "\n",
        "print(\"TRAIN RMSE: \", mean_squared_error(y_train, lasso7.predict(X_train[features]), squared = False))"
      ]
    },
    {
      "cell_type": "code",
      "execution_count": null,
      "metadata": {
        "colab": {
          "base_uri": "https://localhost:8080/"
        },
        "id": "mtIeyRgwJCsc",
        "outputId": "ae312a9e-f43c-4453-c229-5269c0987bb0"
      },
      "outputs": [
        {
          "name": "stdout",
          "output_type": "stream",
          "text": [
            "Your submission was successfully saved!\n"
          ]
        }
      ],
      "source": [
        "#Creating the submission\n",
        "submission = pd.read_csv('sample_solution.csv')\n",
        "submission['contest-tmp2m-14d__tmp2m'] = lasso7.predict(X_test[features])\n",
        "\n",
        "submission.to_csv('submission_LassoRegPCA.csv', index = False)\n",
        "print(\"Your submission was successfully saved!\")"
      ]
    },
    {
      "cell_type": "markdown",
      "metadata": {
        "id": "Olch4CDJJk3g"
      },
      "source": [
        "Baseline Lasso with PCA (41 PCs):\n",
        "- Training RMSE: 2.5983658955952813\n",
        "- Testing RMSE: 2.026\n",
        "- Since the testing RMSE is lower than the training RMSE, this is the most generalizable model we have. However, its overall performance is still worse than that of the Lasso model that does not use PCA."
      ]
    },
    {
      "cell_type": "markdown",
      "metadata": {
        "id": "j1Ka92Unj8jy"
      },
      "source": [
        "#XGBoost Model"
      ]
    },
    {
      "cell_type": "markdown",
      "metadata": {
        "id": "0jS5YQ8rhiqv"
      },
      "source": [
        "**XG Boost Model**"
      ]
    },
    {
      "cell_type": "markdown",
      "metadata": {
        "id": "5LEVlelCZYaX"
      },
      "source": [
        "Parameter Details:\n",
        "  \n",
        "*  Base_score: Default is 0.5, initial prediction score of all instances (basically does not really matter)\n",
        "*   Booster: Type of model to run at each iteration, two options:\n",
        "  - gbtree = tree-based model\n",
        "  - gblinear = linear model\n",
        "*   N_estimators: Number of runs XGBoost will try to learn, default is usually 100\n",
        "*   Early_stopping_rounds: Monitors performance of model that is being trained on a seperate test dataset and stops training procedure once performance on test dataset has not improved after a fixed # of iterations\n",
        "*   Objective: Loss function to be minimized\n",
        "*   Max_depth: Makes splits up until this point before pruning the tree backwards and remove splits beyond which there is no positive gain, used to control overfitting, typical values 3-10\n",
        "*   Learning_rate: Shrinkage we do at every step, default 0.01\n",
        "\n",
        "\n",
        "There are a lot more, but these are the basic ones, depending on RSME we can experiment with those\n",
        "\n",
        "\n",
        "\n",
        "\n",
        "\n",
        "\n",
        "\n"
      ]
    },
    {
      "cell_type": "markdown",
      "metadata": {
        "id": "llyoDiqhrEdY"
      },
      "source": [
        "XGBoost W/ RandomizedSearchCV"
      ]
    },
    {
      "cell_type": "code",
      "execution_count": null,
      "metadata": {
        "id": "CJdKZOnMA_EK"
      },
      "outputs": [],
      "source": [
        "X_train = pd.read_csv('X_train_clean.csv')\n",
        "y_train = pd.read_csv('y_train_clean.csv')\n",
        "X_test = pd.read_csv('X_test_clean.csv')"
      ]
    },
    {
      "cell_type": "code",
      "execution_count": null,
      "metadata": {
        "id": "yvHC7vHqrMMx"
      },
      "outputs": [],
      "source": [
        "# Create Model\n",
        "import xgboost\n",
        "classifier = xgboost.XGBRegressor()"
      ]
    },
    {
      "cell_type": "code",
      "execution_count": null,
      "metadata": {
        "id": "Mslz78spsROj"
      },
      "outputs": [],
      "source": [
        "# Parameter Dictionary\n",
        "param_dict = OrderedDict()\n",
        "param_dict['max_depth'] = [5, 10, 15, 20, 25]\n",
        "param_dict['subsample'] = [0.5, 0.6, 0.7, 0.8, 0.9, 1.0]\n",
        "param_dict['colsample_bytree'] = [0.5, 0.6, 0.7, 0.8, 0.9, 1.0]\n",
        "param_dict['learning_rate'] = [0.01, 0.05, 0.10, 0.20, 0.30, 0.40]\n",
        "param_dict['gamma'] = [0.00, 0.05, 0.10, 0.15, 0.20]\n",
        "param_dict['scale_pos_weight'] = [30, 40, 50, 300, 400, 500, 600, 700]"
      ]
    },
    {
      "cell_type": "code",
      "execution_count": null,
      "metadata": {
        "id": "UEfExPbAsmYG"
      },
      "outputs": [],
      "source": [
        "# Model Building\n",
        "rs_model=RandomizedSearchCV(classifier,param_distributions=param_dict,n_iter=5,scoring='roc_auc',n_jobs=-1,cv=5,verbose=3)"
      ]
    },
    {
      "cell_type": "code",
      "execution_count": null,
      "metadata": {
        "colab": {
          "base_uri": "https://localhost:8080/"
        },
        "id": "-zfMZM9Us81X",
        "outputId": "131a4b63-f028-4433-852a-4cd96da7e5b2"
      },
      "outputs": [
        {
          "name": "stdout",
          "output_type": "stream",
          "text": [
            "Fitting 5 folds for each of 5 candidates, totalling 25 fits\n",
            "[22:25:02] WARNING: /workspace/src/objective/regression_obj.cu:152: reg:linear is now deprecated in favor of reg:squarederror.\n"
          ]
        },
        {
          "data": {
            "text/plain": [
              "RandomizedSearchCV(cv=5, estimator=XGBRegressor(), n_iter=5, n_jobs=-1,\n",
              "                   param_distributions=OrderedDict([('max_depth',\n",
              "                                                     [5, 10, 15, 20, 25]),\n",
              "                                                    ('subsample',\n",
              "                                                     [0.5, 0.6, 0.7, 0.8, 0.9,\n",
              "                                                      1.0]),\n",
              "                                                    ('colsample_bytree',\n",
              "                                                     [0.5, 0.6, 0.7, 0.8, 0.9,\n",
              "                                                      1.0]),\n",
              "                                                    ('learning_rate',\n",
              "                                                     [0.01, 0.05, 0.1, 0.2, 0.3,\n",
              "                                                      0.4]),\n",
              "                                                    ('gamma',\n",
              "                                                     [0.0, 0.05, 0.1, 0.15,\n",
              "                                                      0.2]),\n",
              "                                                    ('scale_pos_weight',\n",
              "                                                     [30, 40, 50, 300, 400, 500,\n",
              "                                                      600, 700])]),\n",
              "                   scoring='roc_auc', verbose=3)"
            ]
          },
          "execution_count": 47,
          "metadata": {},
          "output_type": "execute_result"
        }
      ],
      "source": [
        "# Fit\n",
        "rs_model.fit(X_train,y_train)"
      ]
    },
    {
      "cell_type": "code",
      "execution_count": null,
      "metadata": {
        "colab": {
          "base_uri": "https://localhost:8080/"
        },
        "id": "n_NS5WTsvSUI",
        "outputId": "b805dc23-9ae0-41c1-950d-634633073a99"
      },
      "outputs": [
        {
          "data": {
            "text/plain": [
              "XGBRegressor(colsample_bytree=0.8, gamma=0.1, max_depth=25, scale_pos_weight=50,\n",
              "             subsample=0.7)"
            ]
          },
          "execution_count": 48,
          "metadata": {},
          "output_type": "execute_result"
        }
      ],
      "source": [
        "rs_model.best_estimator_"
      ]
    },
    {
      "cell_type": "code",
      "execution_count": null,
      "metadata": {
        "colab": {
          "base_uri": "https://localhost:8080/"
        },
        "id": "S26OZe_N6fIH",
        "outputId": "9d9638ee-a8cc-4a42-f4b4-c34ba7dcfcc1"
      },
      "outputs": [
        {
          "output_type": "stream",
          "name": "stdout",
          "text": [
            "[18:32:24] WARNING: /workspace/src/objective/regression_obj.cu:152: reg:linear is now deprecated in favor of reg:squarederror.\n",
            "[0]\tvalidation_0-rmse:14.6231\tvalidation_1-rmse:14.6231\n",
            "[100]\tvalidation_0-rmse:5.42609\tvalidation_1-rmse:5.42609\n",
            "[200]\tvalidation_0-rmse:2.04088\tvalidation_1-rmse:2.04088\n",
            "[300]\tvalidation_0-rmse:0.788651\tvalidation_1-rmse:0.788651\n",
            "[400]\tvalidation_0-rmse:0.321563\tvalidation_1-rmse:0.321563\n",
            "[500]\tvalidation_0-rmse:0.149712\tvalidation_1-rmse:0.149712\n",
            "[600]\tvalidation_0-rmse:0.092468\tvalidation_1-rmse:0.092468\n"
          ]
        }
      ],
      "source": [
        "# Create Model w/ Optimized Parameters\n",
        "\n",
        "reg = xgb.XGBRegressor(base_score=0.5, booster='gbtree',    \n",
        "                       n_estimators=50000,\n",
        "                       early_stopping_rounds=50,\n",
        "                       objective='reg:linear',\n",
        "                       eval_metric = 'rmse',\n",
        "                       colsample_bytree=0.8,\n",
        "                       gamma = 0.1,\n",
        "                       max_depth=25,\n",
        "                       scale_pos_weight=50,\n",
        "                       min_child_weight = 1,\n",
        "                       subsample=0.7,\n",
        "                       learning_rate=0.01, \n",
        "                       gpu_id=0)\n",
        "\n",
        "reg.fit(X_train, y_train,\n",
        "        eval_set=[(X_train, y_train), (X_train, y_train)],\n",
        "        verbose=100)"
      ]
    },
    {
      "cell_type": "markdown",
      "source": [
        "Performed very well on training set, score on Kaggle shows model is very much overfit"
      ],
      "metadata": {
        "id": "FpuNPIC-N4Sn"
      }
    },
    {
      "cell_type": "code",
      "execution_count": null,
      "metadata": {
        "id": "JEx-p3ge8ptv",
        "colab": {
          "base_uri": "https://localhost:8080/"
        },
        "outputId": "2948cd26-4ba3-4056-e400-c5c2f1c5b95e"
      },
      "outputs": [
        {
          "output_type": "stream",
          "name": "stdout",
          "text": [
            "(31354,)\n"
          ]
        }
      ],
      "source": [
        "pred = reg.predict(X_test)\n",
        "print(pred.shape)"
      ]
    },
    {
      "cell_type": "code",
      "execution_count": null,
      "metadata": {
        "colab": {
          "base_uri": "https://localhost:8080/"
        },
        "id": "WWiVLoK-9p7Y",
        "outputId": "6cc9df49-74e8-4549-c91d-624e8a0ae7ab"
      },
      "outputs": [
        {
          "output_type": "stream",
          "name": "stdout",
          "text": [
            "Your submission was successfully saved!\n"
          ]
        }
      ],
      "source": [
        "#Creating the submission\n",
        "\n",
        "submission = pd.read_csv('sample_solution.csv')\n",
        "submission['contest-tmp2m-14d__tmp2m'] = reg.predict(X_test)\n",
        "\n",
        "submission.to_csv('submission_XGBoostwRS.csv', index = False)\n",
        "print(\"Your submission was successfully saved!\")"
      ]
    },
    {
      "cell_type": "markdown",
      "metadata": {
        "id": "8Wgy5L-0d6zK"
      },
      "source": [
        "XGBoost W/ RandomizedSearchCV & Clean final dataset"
      ]
    },
    {
      "cell_type": "code",
      "source": [
        "X_train = pd.read_csv('X_train_final.csv')\n",
        "y_train = pd.read_csv('y_train_final.csv')\n",
        "X_test = pd.read_csv('X_test_final.csv')"
      ],
      "metadata": {
        "id": "oz_dTEVyTFwM"
      },
      "execution_count": null,
      "outputs": []
    },
    {
      "cell_type": "code",
      "source": [
        "# Parameter Dictionary\n",
        "param_dict = OrderedDict()\n",
        "param_dict['max_depth'] = [5, 10, 15, 20, 25]\n",
        "param_dict['subsample'] = [0.5, 0.6, 0.7, 0.8, 0.9, 1.0]\n",
        "param_dict['colsample_bytree'] = [0.5, 0.6, 0.7, 0.8, 0.9, 1.0]\n",
        "param_dict['learning_rate'] = [0.01, 0.05, 0.10, 0.20, 0.30, 0.40]\n",
        "param_dict['gamma'] = [0.00, 0.05, 0.10, 0.15, 0.20]\n",
        "param_dict['scale_pos_weight'] = [30, 40, 50, 300, 400, 500, 600, 700]"
      ],
      "metadata": {
        "id": "oXI2AoNTUHgE"
      },
      "execution_count": null,
      "outputs": []
    },
    {
      "cell_type": "code",
      "source": [
        "# Model Building\n",
        "rs_model2=RandomizedSearchCV(classifier,param_distributions=param_dict,n_iter=5,scoring='roc_auc',n_jobs=-1,cv=5,verbose=3)"
      ],
      "metadata": {
        "id": "EayvVV-tUINl"
      },
      "execution_count": null,
      "outputs": []
    },
    {
      "cell_type": "code",
      "source": [
        "# Fit\n",
        "rs_model2.fit(X_train,y_train)"
      ],
      "metadata": {
        "colab": {
          "base_uri": "https://localhost:8080/"
        },
        "id": "UKMlJr2KULGO",
        "outputId": "03c13818-e228-44e6-f8e5-ee1074300fdc"
      },
      "execution_count": null,
      "outputs": [
        {
          "output_type": "stream",
          "name": "stdout",
          "text": [
            "Fitting 5 folds for each of 5 candidates, totalling 25 fits\n"
          ]
        }
      ]
    },
    {
      "cell_type": "code",
      "source": [
        "rs_model2.best_estimator_"
      ],
      "metadata": {
        "id": "9SDXNsHFUO7T"
      },
      "execution_count": null,
      "outputs": []
    },
    {
      "cell_type": "code",
      "source": [
        "# Create Model w/ Optimized Parameters\n",
        "\n",
        "reg2 = xgb.XGBRegressor(base_score=0.5, booster='gbtree',    \n",
        "                       n_estimators=1000,\n",
        "                       early_stopping_rounds=50,\n",
        "                       objective='reg:linear',\n",
        "                       colsample_bytree=0.8,\n",
        "                       gamma = 0.1,\n",
        "                       max_depth=25,\n",
        "                       scale_pos_weight=50,\n",
        "                       min_child_weight = 1,\n",
        "                       subsample=0.7,\n",
        "                       learning_rate=0.01)\n",
        "\n",
        "reg2.fit(X_train, y_train,\n",
        "        eval_set=[(X_train, y_train), (X_train, y_train)],\n",
        "        verbose=100)"
      ],
      "metadata": {
        "id": "9U0sCYUaURtb"
      },
      "execution_count": null,
      "outputs": []
    },
    {
      "cell_type": "markdown",
      "source": [
        "- Validation Set RMSE: 0.068\n",
        "- Testing Set RMSE: 2.294\n",
        "- The model is quite overfit to the training set, yet its overall accuracy surpasses that of the Random Forest model"
      ],
      "metadata": {
        "id": "Q3viNcmlEc4b"
      }
    }
  ],
  "metadata": {
    "colab": {
      "provenance": [],
      "include_colab_link": true
    },
    "kernelspec": {
      "display_name": "Python 3",
      "name": "python3"
    },
    "language_info": {
      "name": "python"
    }
  },
  "nbformat": 4,
  "nbformat_minor": 0
}